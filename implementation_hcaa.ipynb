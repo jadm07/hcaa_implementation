{
 "cells": [
  {
   "cell_type": "code",
   "execution_count": 1,
   "id": "49359188-da9a-43a8-9448-f5841cb37715",
   "metadata": {},
   "outputs": [],
   "source": [
    "import pandas as pd\n",
    "import numpy as np\n",
    "#pip install git+https://github.com/milesgranger/gap_statistic    \n",
    "#from gap_statistic import OptimalK\n",
    "import scipy.spatial.distance as ssd\n",
    "import itertools\n",
    "from scipy.cluster.hierarchy import dendrogram, linkage, fcluster\n",
    "import matplotlib.pyplot as plt"
   ]
  },
  {
   "cell_type": "markdown",
   "id": "8746773c-062b-4a5e-b062-cba6c6dc3589",
   "metadata": {
    "tags": []
   },
   "source": [
    "# Inspecting the relation between the clustering method using the custom distance metrics and the sector classification for each dataset"
   ]
  },
  {
   "cell_type": "markdown",
   "id": "82cf9ff0-f097-46d8-803b-411fe6874d21",
   "metadata": {
    "jp-MarkdownHeadingCollapsed": true,
    "tags": []
   },
   "source": [
    "## Importing the test data and estimating the correlation matrix"
   ]
  },
  {
   "cell_type": "code",
   "execution_count": 2,
   "id": "2d349309-433d-4e0d-af5c-fe11c996a0e2",
   "metadata": {},
   "outputs": [],
   "source": [
    "sp500 = pd.read_csv('/home/dum/Desktop/data/sp_500_returns.csv', index_col='Date')"
   ]
  },
  {
   "cell_type": "code",
   "execution_count": 54,
   "id": "4aaa85fb",
   "metadata": {},
   "outputs": [],
   "source": [
    "mercado_europeo = pd.read_csv('/home/dum/Desktop/data/european_market_returns.csv', index_col='Date')"
   ]
  },
  {
   "cell_type": "code",
   "execution_count": 3,
   "id": "129fa6da-db3c-484d-ad94-52c58825564f",
   "metadata": {},
   "outputs": [
    {
     "data": {
      "text/html": [
       "<div>\n",
       "<style scoped>\n",
       "    .dataframe tbody tr th:only-of-type {\n",
       "        vertical-align: middle;\n",
       "    }\n",
       "\n",
       "    .dataframe tbody tr th {\n",
       "        vertical-align: top;\n",
       "    }\n",
       "\n",
       "    .dataframe thead th {\n",
       "        text-align: right;\n",
       "    }\n",
       "</style>\n",
       "<table border=\"1\" class=\"dataframe\">\n",
       "  <thead>\n",
       "    <tr style=\"text-align: right;\">\n",
       "      <th></th>\n",
       "      <th>A</th>\n",
       "      <th>AAL</th>\n",
       "      <th>AAP</th>\n",
       "      <th>AAPL</th>\n",
       "      <th>ABC</th>\n",
       "      <th>ABMD</th>\n",
       "      <th>ABT</th>\n",
       "      <th>ACN</th>\n",
       "      <th>ADBE</th>\n",
       "      <th>ADI</th>\n",
       "      <th>...</th>\n",
       "      <th>WYNN</th>\n",
       "      <th>XEL</th>\n",
       "      <th>XLNX</th>\n",
       "      <th>XOM</th>\n",
       "      <th>XRAY</th>\n",
       "      <th>XYL</th>\n",
       "      <th>YUM</th>\n",
       "      <th>ZBH</th>\n",
       "      <th>ZBRA</th>\n",
       "      <th>ZION</th>\n",
       "    </tr>\n",
       "    <tr>\n",
       "      <th>Date</th>\n",
       "      <th></th>\n",
       "      <th></th>\n",
       "      <th></th>\n",
       "      <th></th>\n",
       "      <th></th>\n",
       "      <th></th>\n",
       "      <th></th>\n",
       "      <th></th>\n",
       "      <th></th>\n",
       "      <th></th>\n",
       "      <th></th>\n",
       "      <th></th>\n",
       "      <th></th>\n",
       "      <th></th>\n",
       "      <th></th>\n",
       "      <th></th>\n",
       "      <th></th>\n",
       "      <th></th>\n",
       "      <th></th>\n",
       "      <th></th>\n",
       "      <th></th>\n",
       "    </tr>\n",
       "  </thead>\n",
       "  <tbody>\n",
       "    <tr>\n",
       "      <th>2012-01-04</th>\n",
       "      <td>-0.007950</td>\n",
       "      <td>-0.017578</td>\n",
       "      <td>0.023444</td>\n",
       "      <td>0.005374</td>\n",
       "      <td>0.003415</td>\n",
       "      <td>-0.007671</td>\n",
       "      <td>-0.003879</td>\n",
       "      <td>-0.000378</td>\n",
       "      <td>-0.010150</td>\n",
       "      <td>-0.001388</td>\n",
       "      <td>...</td>\n",
       "      <td>-0.017197</td>\n",
       "      <td>-0.006584</td>\n",
       "      <td>-0.010635</td>\n",
       "      <td>0.000233</td>\n",
       "      <td>-0.000283</td>\n",
       "      <td>0.033015</td>\n",
       "      <td>0.006829</td>\n",
       "      <td>-0.013534</td>\n",
       "      <td>-0.007559</td>\n",
       "      <td>0.022063</td>\n",
       "    </tr>\n",
       "    <tr>\n",
       "      <th>2012-01-05</th>\n",
       "      <td>0.022382</td>\n",
       "      <td>0.087475</td>\n",
       "      <td>0.006363</td>\n",
       "      <td>0.011102</td>\n",
       "      <td>0.007592</td>\n",
       "      <td>0.008835</td>\n",
       "      <td>-0.002301</td>\n",
       "      <td>-0.019082</td>\n",
       "      <td>0.007072</td>\n",
       "      <td>0.004447</td>\n",
       "      <td>...</td>\n",
       "      <td>-0.010446</td>\n",
       "      <td>0.004418</td>\n",
       "      <td>0.008880</td>\n",
       "      <td>-0.003022</td>\n",
       "      <td>0.000848</td>\n",
       "      <td>-0.014247</td>\n",
       "      <td>0.007631</td>\n",
       "      <td>0.011840</td>\n",
       "      <td>-0.001410</td>\n",
       "      <td>0.028005</td>\n",
       "    </tr>\n",
       "    <tr>\n",
       "      <th>2012-01-06</th>\n",
       "      <td>0.010811</td>\n",
       "      <td>0.023766</td>\n",
       "      <td>0.004637</td>\n",
       "      <td>0.010454</td>\n",
       "      <td>0.002598</td>\n",
       "      <td>-0.007116</td>\n",
       "      <td>-0.009047</td>\n",
       "      <td>-0.001733</td>\n",
       "      <td>0.008427</td>\n",
       "      <td>-0.006641</td>\n",
       "      <td>...</td>\n",
       "      <td>-0.035186</td>\n",
       "      <td>-0.002933</td>\n",
       "      <td>-0.006486</td>\n",
       "      <td>-0.007463</td>\n",
       "      <td>-0.005932</td>\n",
       "      <td>-0.016797</td>\n",
       "      <td>0.007237</td>\n",
       "      <td>0.002600</td>\n",
       "      <td>-0.008192</td>\n",
       "      <td>0.001135</td>\n",
       "    </tr>\n",
       "    <tr>\n",
       "      <th>2012-01-09</th>\n",
       "      <td>0.026203</td>\n",
       "      <td>0.021429</td>\n",
       "      <td>-0.000280</td>\n",
       "      <td>-0.001586</td>\n",
       "      <td>-0.000518</td>\n",
       "      <td>0.003859</td>\n",
       "      <td>-0.000179</td>\n",
       "      <td>-0.001736</td>\n",
       "      <td>-0.006616</td>\n",
       "      <td>0.019499</td>\n",
       "      <td>...</td>\n",
       "      <td>-0.002805</td>\n",
       "      <td>0.000735</td>\n",
       "      <td>0.021759</td>\n",
       "      <td>0.004464</td>\n",
       "      <td>-0.004831</td>\n",
       "      <td>0.003973</td>\n",
       "      <td>-0.003843</td>\n",
       "      <td>0.007410</td>\n",
       "      <td>-0.004557</td>\n",
       "      <td>0.013605</td>\n",
       "    </tr>\n",
       "    <tr>\n",
       "      <th>2012-01-10</th>\n",
       "      <td>0.018760</td>\n",
       "      <td>0.000000</td>\n",
       "      <td>0.000839</td>\n",
       "      <td>0.003580</td>\n",
       "      <td>0.011408</td>\n",
       "      <td>-0.002746</td>\n",
       "      <td>0.004655</td>\n",
       "      <td>0.017201</td>\n",
       "      <td>0.023484</td>\n",
       "      <td>0.004372</td>\n",
       "      <td>...</td>\n",
       "      <td>0.008346</td>\n",
       "      <td>0.008082</td>\n",
       "      <td>0.001825</td>\n",
       "      <td>0.002573</td>\n",
       "      <td>0.014278</td>\n",
       "      <td>0.012267</td>\n",
       "      <td>0.006206</td>\n",
       "      <td>0.020964</td>\n",
       "      <td>0.009156</td>\n",
       "      <td>0.016219</td>\n",
       "    </tr>\n",
       "  </tbody>\n",
       "</table>\n",
       "<p>5 rows × 460 columns</p>\n",
       "</div>"
      ],
      "text/plain": [
       "                   A       AAL       AAP      AAPL       ABC      ABMD  \\\n",
       "Date                                                                     \n",
       "2012-01-04 -0.007950 -0.017578  0.023444  0.005374  0.003415 -0.007671   \n",
       "2012-01-05  0.022382  0.087475  0.006363  0.011102  0.007592  0.008835   \n",
       "2012-01-06  0.010811  0.023766  0.004637  0.010454  0.002598 -0.007116   \n",
       "2012-01-09  0.026203  0.021429 -0.000280 -0.001586 -0.000518  0.003859   \n",
       "2012-01-10  0.018760  0.000000  0.000839  0.003580  0.011408 -0.002746   \n",
       "\n",
       "                 ABT       ACN      ADBE       ADI  ...      WYNN       XEL  \\\n",
       "Date                                                ...                       \n",
       "2012-01-04 -0.003879 -0.000378 -0.010150 -0.001388  ... -0.017197 -0.006584   \n",
       "2012-01-05 -0.002301 -0.019082  0.007072  0.004447  ... -0.010446  0.004418   \n",
       "2012-01-06 -0.009047 -0.001733  0.008427 -0.006641  ... -0.035186 -0.002933   \n",
       "2012-01-09 -0.000179 -0.001736 -0.006616  0.019499  ... -0.002805  0.000735   \n",
       "2012-01-10  0.004655  0.017201  0.023484  0.004372  ...  0.008346  0.008082   \n",
       "\n",
       "                XLNX       XOM      XRAY       XYL       YUM       ZBH  \\\n",
       "Date                                                                     \n",
       "2012-01-04 -0.010635  0.000233 -0.000283  0.033015  0.006829 -0.013534   \n",
       "2012-01-05  0.008880 -0.003022  0.000848 -0.014247  0.007631  0.011840   \n",
       "2012-01-06 -0.006486 -0.007463 -0.005932 -0.016797  0.007237  0.002600   \n",
       "2012-01-09  0.021759  0.004464 -0.004831  0.003973 -0.003843  0.007410   \n",
       "2012-01-10  0.001825  0.002573  0.014278  0.012267  0.006206  0.020964   \n",
       "\n",
       "                ZBRA      ZION  \n",
       "Date                            \n",
       "2012-01-04 -0.007559  0.022063  \n",
       "2012-01-05 -0.001410  0.028005  \n",
       "2012-01-06 -0.008192  0.001135  \n",
       "2012-01-09 -0.004557  0.013605  \n",
       "2012-01-10  0.009156  0.016219  \n",
       "\n",
       "[5 rows x 460 columns]"
      ]
     },
     "execution_count": 3,
     "metadata": {},
     "output_type": "execute_result"
    }
   ],
   "source": [
    "sp500.head()"
   ]
  },
  {
   "cell_type": "code",
   "execution_count": 3,
   "id": "072c8460-bd2f-4d72-9fc6-baab11232ab4",
   "metadata": {},
   "outputs": [],
   "source": [
    "psi20 = pd.read_csv('/home/dum/Desktop/data/psi_20_returns.csv', index_col='Date')"
   ]
  },
  {
   "cell_type": "code",
   "execution_count": 55,
   "id": "1826d7bd-2e81-4392-b893-2ab90b4c44a6",
   "metadata": {},
   "outputs": [],
   "source": [
    "E_matrix = np.corrcoef(sp500.T)\n",
    "E_matrix_europeo = np.corrcoef(mercado_europeo.T)"
   ]
  },
  {
   "cell_type": "code",
   "execution_count": 6,
   "id": "8a3c5edb-c646-441a-be5f-746c557ac540",
   "metadata": {},
   "outputs": [
    {
     "data": {
      "text/plain": [
       "(460, 460)"
      ]
     },
     "execution_count": 6,
     "metadata": {},
     "output_type": "execute_result"
    }
   ],
   "source": [
    "E_matrix.shape"
   ]
  },
  {
   "cell_type": "code",
   "execution_count": 56,
   "id": "86ce6b41",
   "metadata": {},
   "outputs": [
    {
     "data": {
      "text/plain": [
       "(272, 272)"
      ]
     },
     "execution_count": 56,
     "metadata": {},
     "output_type": "execute_result"
    }
   ],
   "source": [
    "E_matrix_europeo.shape"
   ]
  },
  {
   "cell_type": "markdown",
   "id": "01bc5266-fa67-4e60-8b64-0258085c4d69",
   "metadata": {},
   "source": [
    "To be able to pass the distance matrix to the ssd funciton (which transforms the distance matrix to a condensed form) it's necessary to round the entries of the matrix first in order to prevent a validation error regarding the symmetry of the matrix."
   ]
  },
  {
   "cell_type": "code",
   "execution_count": 5,
   "id": "b388a49f-7705-4ea1-bbef-2e0452c2285f",
   "metadata": {},
   "outputs": [],
   "source": [
    "D_matrix = np.sqrt(2*(1- E_matrix))\n",
    "D_matrix = np.around(D_matrix, decimals=7)"
   ]
  },
  {
   "cell_type": "code",
   "execution_count": 58,
   "id": "758409f7",
   "metadata": {},
   "outputs": [],
   "source": [
    "D_matrix_europeo = np.sqrt(2*(1- E_matrix_europeo))\n",
    "D_matrix_europeo = np.around(D_matrix_europeo, decimals=7)"
   ]
  },
  {
   "cell_type": "code",
   "execution_count": 6,
   "id": "7d3d87af-b435-4e2f-bb64-d90acff297ec",
   "metadata": {},
   "outputs": [
    {
     "data": {
      "text/plain": [
       "(460, 460)"
      ]
     },
     "execution_count": 6,
     "metadata": {},
     "output_type": "execute_result"
    }
   ],
   "source": [
    "D_matrix.shape"
   ]
  },
  {
   "cell_type": "code",
   "execution_count": 59,
   "id": "b9be9860",
   "metadata": {},
   "outputs": [
    {
     "data": {
      "text/plain": [
       "(272, 272)"
      ]
     },
     "execution_count": 59,
     "metadata": {},
     "output_type": "execute_result"
    }
   ],
   "source": [
    "D_matrix_europeo.shape"
   ]
  },
  {
   "cell_type": "markdown",
   "id": "5413cb75-52c4-4c2a-bd38-2455f7a9af3e",
   "metadata": {},
   "source": [
    "To be able to pass this custom distance matrix to the scipy clustering function, it's necessary to obtain the matrix in condensed form (more info here: https://stackoverflow.com/questions/18952587/use-distance-matrix-in-scipy-cluster-hierarchy-linkage)"
   ]
  },
  {
   "cell_type": "code",
   "execution_count": 60,
   "id": "8acdac29-21b1-4fc1-ba72-f92fd9589084",
   "metadata": {},
   "outputs": [],
   "source": [
    "D_condensed = ssd.squareform(D_matrix)\n",
    "D_condensed_europeo = ssd.squareform(D_matrix_europeo)"
   ]
  },
  {
   "cell_type": "code",
   "execution_count": 8,
   "id": "5439518f-daa7-4d3c-8496-9bee1ca94556",
   "metadata": {},
   "outputs": [
    {
     "data": {
      "text/plain": [
       "(105570,)"
      ]
     },
     "execution_count": 8,
     "metadata": {},
     "output_type": "execute_result"
    }
   ],
   "source": [
    "D_condensed.shape"
   ]
  },
  {
   "cell_type": "markdown",
   "id": "7dbe4e7c-8ca2-4d98-ab49-0a088423712b",
   "metadata": {
    "jp-MarkdownHeadingCollapsed": true,
    "tags": []
   },
   "source": [
    "## Getting the optimal number of clusters via GAP Statistic (Work in progress)"
   ]
  },
  {
   "cell_type": "code",
   "execution_count": 6,
   "id": "fda10af5-f2b3-4f27-b907-d5a2e7596ca4",
   "metadata": {},
   "outputs": [],
   "source": [
    "optimalK = OptimalK()"
   ]
  },
  {
   "cell_type": "code",
   "execution_count": 8,
   "id": "8f813675-edb2-4f37-9cea-a091344264ea",
   "metadata": {},
   "outputs": [
    {
     "data": {
      "text/plain": [
       "25"
      ]
     },
     "execution_count": 8,
     "metadata": {},
     "output_type": "execute_result"
    }
   ],
   "source": [
    "n_clusters = optimalK(sp500, cluster_array=np.arange(10, 30))\n",
    "n_clusters"
   ]
  },
  {
   "cell_type": "code",
   "execution_count": 9,
   "id": "5786b9f2-5e04-40ad-abb0-501d56d71dad",
   "metadata": {},
   "outputs": [
    {
     "data": {
      "text/plain": [
       "27"
      ]
     },
     "execution_count": 9,
     "metadata": {},
     "output_type": "execute_result"
    }
   ],
   "source": [
    "optimalK(D_matrix, cluster_array=np.arange(10,30))"
   ]
  },
  {
   "cell_type": "code",
   "execution_count": 11,
   "id": "aebb3097-f92c-4e9f-b33e-167553e949f4",
   "metadata": {},
   "outputs": [
    {
     "data": {
      "text/plain": [
       "34"
      ]
     },
     "execution_count": 11,
     "metadata": {},
     "output_type": "execute_result"
    }
   ],
   "source": [
    "optimalK(D_matrix, cluster_array=np.arange(10,35))"
   ]
  },
  {
   "cell_type": "markdown",
   "id": "3592531f-8cd0-4033-a30a-5026e100bc4e",
   "metadata": {
    "jp-MarkdownHeadingCollapsed": true,
    "tags": []
   },
   "source": [
    "## Plotting the dendogram associated to the hierarchical agglomerative clustering "
   ]
  },
  {
   "cell_type": "code",
   "execution_count": 9,
   "id": "ce7a3e79-e05b-40ec-9769-1bf9b86dda85",
   "metadata": {},
   "outputs": [],
   "source": [
    "Z = linkage(D_condensed, 'ward', optimal_ordering = True)"
   ]
  },
  {
   "cell_type": "code",
   "execution_count": 61,
   "id": "aafe3815",
   "metadata": {},
   "outputs": [],
   "source": [
    "Z_europeo = linkage(D_condensed_europeo, 'ward', optimal_ordering=True)"
   ]
  },
  {
   "cell_type": "code",
   "execution_count": 10,
   "id": "fa3272c1-79a0-4841-97f7-ce562d75c8da",
   "metadata": {},
   "outputs": [
    {
     "data": {
      "image/png": "[encoded data removed]",
      "text/plain": [
       "<Figure size 1800x720 with 1 Axes>"
      ]
     },
     "metadata": {
      "needs_background": "light"
     },
     "output_type": "display_data"
    }
   ],
   "source": [
    "fig = plt.figure(figsize=(25, 10))\n",
    "dn = dendrogram(Z)"
   ]
  },
  {
   "cell_type": "code",
   "execution_count": 62,
   "id": "4d2b3836",
   "metadata": {},
   "outputs": [
    {
     "data": {
      "image/png": "[encoded data removed]",
      "text/plain": [
       "<Figure size 1800x720 with 1 Axes>"
      ]
     },
     "metadata": {
      "needs_background": "light"
     },
     "output_type": "display_data"
    }
   ],
   "source": [
    "fig = plt.figure(figsize=(25, 10))\n",
    "dn = dendrogram(Z_europeo)"
   ]
  },
  {
   "cell_type": "markdown",
   "id": "0ae01848-a7d2-448d-b4d7-664d0fe7609a",
   "metadata": {},
   "source": [
    "Plot the dendogram with only 4 levels"
   ]
  },
  {
   "cell_type": "code",
   "execution_count": 14,
   "id": "72b88188-20cb-428e-91cc-1d4182b5ff2e",
   "metadata": {},
   "outputs": [
    {
     "data": {
      "image/png": "[encoded data removed]",
      "text/plain": [
       "<Figure size 432x288 with 1 Axes>"
      ]
     },
     "metadata": {
      "needs_background": "light"
     },
     "output_type": "display_data"
    }
   ],
   "source": [
    "dn = dendrogram(Z, p = 1, truncate_mode='level')"
   ]
  },
  {
   "cell_type": "markdown",
   "id": "1199f996-7812-4c78-b1ee-1070dd6de88a",
   "metadata": {
    "jp-MarkdownHeadingCollapsed": true,
    "tags": []
   },
   "source": [
    "## Analyzing the relation between the sectors of the assets and the clusters found"
   ]
  },
  {
   "cell_type": "code",
   "execution_count": 17,
   "id": "86d3d080-2eb2-459a-be2d-163b23c858a7",
   "metadata": {},
   "outputs": [],
   "source": [
    "labels = fcluster(Z, 9, criterion=\"maxclust\")"
   ]
  },
  {
   "cell_type": "code",
   "execution_count": 19,
   "id": "af6353a6-676c-440b-ad05-74d8cbf49a26",
   "metadata": {},
   "outputs": [],
   "source": [
    "labels_order = labels.argsort()"
   ]
  },
  {
   "cell_type": "code",
   "execution_count": 24,
   "id": "96c81d9a-8425-4484-8fef-5401890e0b71",
   "metadata": {},
   "outputs": [
    {
     "data": {
      "text/plain": [
       "array(['AMT', 'BF-B', 'CAG', 'CCI', 'CHD', 'CL', 'CLX', 'CPB', 'DLR',\n",
       "       'EQIX', 'GIS', 'HRL', 'HSY', 'K', 'KMB', 'KO', 'MDLZ', 'MKC', 'MO',\n",
       "       'PEP', 'PG', 'PM', 'SBAC', 'SJM'], dtype=object)"
      ]
     },
     "execution_count": 24,
     "metadata": {},
     "output_type": "execute_result"
    }
   ],
   "source": [
    "sp500.columns.values[labels == 1]"
   ]
  },
  {
   "cell_type": "code",
   "execution_count": 25,
   "id": "67dbba8a-5aa0-42a4-8482-b3a590db7304",
   "metadata": {},
   "outputs": [],
   "source": [
    "import bs4 as bs\n",
    "import requests"
   ]
  },
  {
   "cell_type": "code",
   "execution_count": 26,
   "id": "5f48085f-f50b-4e8c-93e6-ea9a4847a4ca",
   "metadata": {},
   "outputs": [],
   "source": [
    "resp = requests.get('https://en.wikipedia.org/w/index.php?title=List_of_S%26P_500_companies&oldid=1062834329')\n",
    "soup = bs.BeautifulSoup(resp.text, 'lxml')\n",
    "table = soup.find('table', {'class': 'wikitable sortable'})\n",
    "sp500_tabla = pd.read_html(str(table))[0]"
   ]
  },
  {
   "cell_type": "code",
   "execution_count": 27,
   "id": "8e3fcace-93ad-40e3-af20-6d5af625b37e",
   "metadata": {},
   "outputs": [],
   "source": [
    "tickers_sp = list(sp500_tabla.sort_values('GICS Sector')['Symbol'])\n",
    "sectors_sp = list(sp500_tabla.sort_values('GICS Sector')['GICS Sector'])\n",
    "tickers_sp[tickers_sp.index('BF.B')] = 'BF-B'\n",
    "tickers_sp[tickers_sp.index('BRK.B')] = 'BRK-B'"
   ]
  },
  {
   "cell_type": "code",
   "execution_count": 28,
   "id": "020fca3c-9d66-4111-9b9c-88b6f8328863",
   "metadata": {},
   "outputs": [],
   "source": [
    "sectors_selected = []\n",
    "for tick in sp500.columns.values:\n",
    "    index = tickers_sp.index(tick)\n",
    "    sectors_selected.append(sectors_sp[index])"
   ]
  },
  {
   "cell_type": "code",
   "execution_count": 29,
   "id": "66956a7c-3bdd-4053-b824-2b8da3e50f3a",
   "metadata": {},
   "outputs": [],
   "source": [
    "sectors_selected= np.array(sectors_selected)"
   ]
  },
  {
   "cell_type": "code",
   "execution_count": 31,
   "id": "bfe38a61-f093-40b1-beca-d2e6daffbd49",
   "metadata": {},
   "outputs": [],
   "source": [
    "d = {'ticker': sp500.columns.values[labels_order[::-1]], 'sector': sectors_selected[labels_order[::-1]], 'label': labels[labels_order[::-1]]}\n",
    "df = pd.DataFrame(data=d)"
   ]
  },
  {
   "cell_type": "code",
   "execution_count": 43,
   "id": "2fcdbd5d",
   "metadata": {},
   "outputs": [],
   "source": [
    "unique_label, count_label =np.unique(labels, return_counts=True)"
   ]
  },
  {
   "cell_type": "code",
   "execution_count": 52,
   "id": "d075217c",
   "metadata": {},
   "outputs": [
    {
     "name": "stdout",
     "output_type": "stream",
     "text": [
      "0\n",
      "Consumer Staples    79.166667\n",
      "Real Estate         20.833333\n",
      "Name: sector, dtype: float64\n",
      "------------------\n",
      "1\n",
      "Utilities    100.0\n",
      "Name: sector, dtype: float64\n",
      "------------------\n",
      "2\n",
      "Real Estate    100.0\n",
      "Name: sector, dtype: float64\n",
      "------------------\n",
      "3\n",
      "Energy       90.47619\n",
      "Utilities     9.52381\n",
      "Name: sector, dtype: float64\n",
      "------------------\n",
      "4\n",
      "Financials    100.0\n",
      "Name: sector, dtype: float64\n",
      "------------------\n",
      "5\n",
      "Consumer Discretionary    43.181818\n",
      "Health Care               19.318182\n",
      "Communication Services    14.772727\n",
      "Industrials               11.363636\n",
      "Consumer Staples           9.090909\n",
      "Real Estate                2.272727\n",
      "Name: sector, dtype: float64\n",
      "------------------\n",
      "6\n",
      "Industrials               58.823529\n",
      "Materials                 27.058824\n",
      "Consumer Discretionary     9.411765\n",
      "Real Estate                2.352941\n",
      "Information Technology     2.352941\n",
      "Name: sector, dtype: float64\n",
      "------------------\n",
      "7\n",
      "Health Care               43.333333\n",
      "Financials                24.444444\n",
      "Information Technology    16.666667\n",
      "Industrials                7.777778\n",
      "Consumer Discretionary     5.555556\n",
      "Consumer Staples           2.222222\n",
      "Name: sector, dtype: float64\n",
      "------------------\n",
      "8\n",
      "Information Technology    73.015873\n",
      "Communication Services    12.698413\n",
      "Consumer Discretionary     7.936508\n",
      "Health Care                3.174603\n",
      "Materials                  1.587302\n",
      "Consumer Staples           1.587302\n",
      "Name: sector, dtype: float64\n",
      "------------------\n"
     ]
    }
   ],
   "source": [
    "for index in range(len(unique_label)):\n",
    "    print(index)\n",
    "    print(df[df['label'] == index+1]['sector'].value_counts() / count_label[index] *100)\n",
    "    print(\"------------------\")"
   ]
  },
  {
   "cell_type": "code",
   "execution_count": 48,
   "id": "6b08b256-f90f-4595-bb92-288364a34bb1",
   "metadata": {},
   "outputs": [
    {
     "data": {
      "text/plain": [
       "Consumer Staples    79.166667\n",
       "Real Estate         20.833333\n",
       "Name: sector, dtype: float64"
      ]
     },
     "execution_count": 48,
     "metadata": {},
     "output_type": "execute_result"
    }
   ],
   "source": [
    "df[df['label'] == 1]['sector'].value_counts() / 24 *100"
   ]
  },
  {
   "cell_type": "code",
   "execution_count": 48,
   "id": "bef7f2eb-469f-43e1-af39-468520e6c181",
   "metadata": {},
   "outputs": [
    {
     "data": {
      "text/html": [
       "<div>\n",
       "<style scoped>\n",
       "    .dataframe tbody tr th:only-of-type {\n",
       "        vertical-align: middle;\n",
       "    }\n",
       "\n",
       "    .dataframe tbody tr th {\n",
       "        vertical-align: top;\n",
       "    }\n",
       "\n",
       "    .dataframe thead th {\n",
       "        text-align: right;\n",
       "    }\n",
       "</style>\n",
       "<table border=\"1\" class=\"dataframe\">\n",
       "  <thead>\n",
       "    <tr style=\"text-align: right;\">\n",
       "      <th></th>\n",
       "      <th>ticker</th>\n",
       "      <th>sector</th>\n",
       "      <th>label</th>\n",
       "    </tr>\n",
       "  </thead>\n",
       "  <tbody>\n",
       "    <tr>\n",
       "      <th>19</th>\n",
       "      <td>GOOGL</td>\n",
       "      <td>Communication Services</td>\n",
       "      <td>24</td>\n",
       "    </tr>\n",
       "    <tr>\n",
       "      <th>20</th>\n",
       "      <td>ADBE</td>\n",
       "      <td>Information Technology</td>\n",
       "      <td>24</td>\n",
       "    </tr>\n",
       "    <tr>\n",
       "      <th>21</th>\n",
       "      <td>GOOG</td>\n",
       "      <td>Communication Services</td>\n",
       "      <td>24</td>\n",
       "    </tr>\n",
       "    <tr>\n",
       "      <th>22</th>\n",
       "      <td>TYL</td>\n",
       "      <td>Information Technology</td>\n",
       "      <td>24</td>\n",
       "    </tr>\n",
       "    <tr>\n",
       "      <th>23</th>\n",
       "      <td>CDNS</td>\n",
       "      <td>Information Technology</td>\n",
       "      <td>24</td>\n",
       "    </tr>\n",
       "    <tr>\n",
       "      <th>24</th>\n",
       "      <td>SNPS</td>\n",
       "      <td>Information Technology</td>\n",
       "      <td>24</td>\n",
       "    </tr>\n",
       "    <tr>\n",
       "      <th>25</th>\n",
       "      <td>INTU</td>\n",
       "      <td>Information Technology</td>\n",
       "      <td>24</td>\n",
       "    </tr>\n",
       "    <tr>\n",
       "      <th>26</th>\n",
       "      <td>AMZN</td>\n",
       "      <td>Consumer Discretionary</td>\n",
       "      <td>24</td>\n",
       "    </tr>\n",
       "    <tr>\n",
       "      <th>27</th>\n",
       "      <td>CRM</td>\n",
       "      <td>Information Technology</td>\n",
       "      <td>24</td>\n",
       "    </tr>\n",
       "    <tr>\n",
       "      <th>28</th>\n",
       "      <td>VRSN</td>\n",
       "      <td>Information Technology</td>\n",
       "      <td>24</td>\n",
       "    </tr>\n",
       "    <tr>\n",
       "      <th>29</th>\n",
       "      <td>ANSS</td>\n",
       "      <td>Information Technology</td>\n",
       "      <td>24</td>\n",
       "    </tr>\n",
       "    <tr>\n",
       "      <th>30</th>\n",
       "      <td>MSFT</td>\n",
       "      <td>Information Technology</td>\n",
       "      <td>24</td>\n",
       "    </tr>\n",
       "  </tbody>\n",
       "</table>\n",
       "</div>"
      ],
      "text/plain": [
       "   ticker                  sector  label\n",
       "19  GOOGL  Communication Services     24\n",
       "20   ADBE  Information Technology     24\n",
       "21   GOOG  Communication Services     24\n",
       "22    TYL  Information Technology     24\n",
       "23   CDNS  Information Technology     24\n",
       "24   SNPS  Information Technology     24\n",
       "25   INTU  Information Technology     24\n",
       "26   AMZN  Consumer Discretionary     24\n",
       "27    CRM  Information Technology     24\n",
       "28   VRSN  Information Technology     24\n",
       "29   ANSS  Information Technology     24\n",
       "30   MSFT  Information Technology     24"
      ]
     },
     "execution_count": 48,
     "metadata": {},
     "output_type": "execute_result"
    }
   ],
   "source": [
    "df[df['label'] == 24]"
   ]
  },
  {
   "cell_type": "code",
   "execution_count": 49,
   "id": "ab9d6f4f-5e23-451d-9cf3-de0464a043b2",
   "metadata": {},
   "outputs": [
    {
     "data": {
      "text/html": [
       "<div>\n",
       "<style scoped>\n",
       "    .dataframe tbody tr th:only-of-type {\n",
       "        vertical-align: middle;\n",
       "    }\n",
       "\n",
       "    .dataframe tbody tr th {\n",
       "        vertical-align: top;\n",
       "    }\n",
       "\n",
       "    .dataframe thead th {\n",
       "        text-align: right;\n",
       "    }\n",
       "</style>\n",
       "<table border=\"1\" class=\"dataframe\">\n",
       "  <thead>\n",
       "    <tr style=\"text-align: right;\">\n",
       "      <th></th>\n",
       "      <th>ticker</th>\n",
       "      <th>sector</th>\n",
       "      <th>label</th>\n",
       "    </tr>\n",
       "  </thead>\n",
       "  <tbody>\n",
       "    <tr>\n",
       "      <th>369</th>\n",
       "      <td>APA</td>\n",
       "      <td>Energy</td>\n",
       "      <td>5</td>\n",
       "    </tr>\n",
       "    <tr>\n",
       "      <th>370</th>\n",
       "      <td>DVN</td>\n",
       "      <td>Energy</td>\n",
       "      <td>5</td>\n",
       "    </tr>\n",
       "    <tr>\n",
       "      <th>371</th>\n",
       "      <td>HAL</td>\n",
       "      <td>Energy</td>\n",
       "      <td>5</td>\n",
       "    </tr>\n",
       "    <tr>\n",
       "      <th>372</th>\n",
       "      <td>PXD</td>\n",
       "      <td>Energy</td>\n",
       "      <td>5</td>\n",
       "    </tr>\n",
       "    <tr>\n",
       "      <th>373</th>\n",
       "      <td>MRO</td>\n",
       "      <td>Energy</td>\n",
       "      <td>5</td>\n",
       "    </tr>\n",
       "    <tr>\n",
       "      <th>374</th>\n",
       "      <td>XOM</td>\n",
       "      <td>Energy</td>\n",
       "      <td>5</td>\n",
       "    </tr>\n",
       "    <tr>\n",
       "      <th>375</th>\n",
       "      <td>KMI</td>\n",
       "      <td>Energy</td>\n",
       "      <td>5</td>\n",
       "    </tr>\n",
       "    <tr>\n",
       "      <th>376</th>\n",
       "      <td>CTRA</td>\n",
       "      <td>Energy</td>\n",
       "      <td>5</td>\n",
       "    </tr>\n",
       "    <tr>\n",
       "      <th>377</th>\n",
       "      <td>COP</td>\n",
       "      <td>Energy</td>\n",
       "      <td>5</td>\n",
       "    </tr>\n",
       "    <tr>\n",
       "      <th>378</th>\n",
       "      <td>MPC</td>\n",
       "      <td>Energy</td>\n",
       "      <td>5</td>\n",
       "    </tr>\n",
       "    <tr>\n",
       "      <th>379</th>\n",
       "      <td>BKR</td>\n",
       "      <td>Energy</td>\n",
       "      <td>5</td>\n",
       "    </tr>\n",
       "    <tr>\n",
       "      <th>380</th>\n",
       "      <td>HES</td>\n",
       "      <td>Energy</td>\n",
       "      <td>5</td>\n",
       "    </tr>\n",
       "    <tr>\n",
       "      <th>381</th>\n",
       "      <td>OKE</td>\n",
       "      <td>Energy</td>\n",
       "      <td>5</td>\n",
       "    </tr>\n",
       "    <tr>\n",
       "      <th>382</th>\n",
       "      <td>EOG</td>\n",
       "      <td>Energy</td>\n",
       "      <td>5</td>\n",
       "    </tr>\n",
       "    <tr>\n",
       "      <th>383</th>\n",
       "      <td>VLO</td>\n",
       "      <td>Energy</td>\n",
       "      <td>5</td>\n",
       "    </tr>\n",
       "    <tr>\n",
       "      <th>384</th>\n",
       "      <td>CVX</td>\n",
       "      <td>Energy</td>\n",
       "      <td>5</td>\n",
       "    </tr>\n",
       "    <tr>\n",
       "      <th>385</th>\n",
       "      <td>AES</td>\n",
       "      <td>Utilities</td>\n",
       "      <td>5</td>\n",
       "    </tr>\n",
       "    <tr>\n",
       "      <th>386</th>\n",
       "      <td>NRG</td>\n",
       "      <td>Utilities</td>\n",
       "      <td>5</td>\n",
       "    </tr>\n",
       "    <tr>\n",
       "      <th>387</th>\n",
       "      <td>WMB</td>\n",
       "      <td>Energy</td>\n",
       "      <td>5</td>\n",
       "    </tr>\n",
       "    <tr>\n",
       "      <th>388</th>\n",
       "      <td>OXY</td>\n",
       "      <td>Energy</td>\n",
       "      <td>5</td>\n",
       "    </tr>\n",
       "    <tr>\n",
       "      <th>389</th>\n",
       "      <td>SLB</td>\n",
       "      <td>Energy</td>\n",
       "      <td>5</td>\n",
       "    </tr>\n",
       "  </tbody>\n",
       "</table>\n",
       "</div>"
      ],
      "text/plain": [
       "    ticker     sector  label\n",
       "369    APA     Energy      5\n",
       "370    DVN     Energy      5\n",
       "371    HAL     Energy      5\n",
       "372    PXD     Energy      5\n",
       "373    MRO     Energy      5\n",
       "374    XOM     Energy      5\n",
       "375    KMI     Energy      5\n",
       "376   CTRA     Energy      5\n",
       "377    COP     Energy      5\n",
       "378    MPC     Energy      5\n",
       "379    BKR     Energy      5\n",
       "380    HES     Energy      5\n",
       "381    OKE     Energy      5\n",
       "382    EOG     Energy      5\n",
       "383    VLO     Energy      5\n",
       "384    CVX     Energy      5\n",
       "385    AES  Utilities      5\n",
       "386    NRG  Utilities      5\n",
       "387    WMB     Energy      5\n",
       "388    OXY     Energy      5\n",
       "389    SLB     Energy      5"
      ]
     },
     "execution_count": 49,
     "metadata": {},
     "output_type": "execute_result"
    }
   ],
   "source": [
    "df[df['label'] == 5]"
   ]
  },
  {
   "cell_type": "markdown",
   "id": "b121b203-429a-4ac8-aa3e-52f4f6127057",
   "metadata": {
    "tags": []
   },
   "source": [
    "# Applying the hcaa algorithm using the created function on real data"
   ]
  },
  {
   "cell_type": "markdown",
   "id": "baf6ad4d-d38b-4651-8d32-5e1ffdb7f3cb",
   "metadata": {
    "tags": []
   },
   "source": [
    "## Loading the PSI 20 dataset"
   ]
  },
  {
   "cell_type": "code",
   "execution_count": 5,
   "id": "fdfdad97-f524-4aed-976b-02539454366b",
   "metadata": {},
   "outputs": [],
   "source": [
    "psi20 = pd.read_csv('./data/psi_20_returns.csv', index_col='Date')"
   ]
  },
  {
   "cell_type": "code",
   "execution_count": 6,
   "id": "edf444ae-578c-4306-bad9-5dd77fc552c0",
   "metadata": {},
   "outputs": [],
   "source": [
    "E_matrix = np.corrcoef(psi20.T)\n",
    "D_matrix = np.sqrt(2*(1- E_matrix))\n",
    "D_matrix = np.around(D_matrix, decimals=7)\n",
    "D_condensed = ssd.squareform(D_matrix)"
   ]
  },
  {
   "cell_type": "markdown",
   "id": "9a3c4394-a3c5-42e0-861a-314443c3cbf5",
   "metadata": {
    "tags": []
   },
   "source": [
    "## Calculating the optimal number of clusters"
   ]
  },
  {
   "cell_type": "markdown",
   "id": "92ce8bd2-bca3-466f-abc2-96ab7ae292fd",
   "metadata": {
    "tags": []
   },
   "source": [
    "### Getting the optimal number of clusters using the silouhette score\n",
    "\n",
    "(More info on how to interpretate this score in here: https://scikit-learn.org/stable/modules/generated/sklearn.metrics.silhouette_score.html\n",
    "\n",
    "Basically, the closer the average silhoutte score is to 1, the best the metric is.\n",
    "\n",
    "For more information about how the silhouette score is calculated, check :\n",
    "https://scikit-learn.org/stable/modules/clustering.html#silhouette-coefficient"
   ]
  },
  {
   "cell_type": "code",
   "execution_count": 7,
   "id": "b22d5adc-2bb5-4b22-8c28-737f8aac6dc0",
   "metadata": {},
   "outputs": [],
   "source": [
    "from sklearn.metrics import silhouette_score"
   ]
  },
  {
   "cell_type": "code",
   "execution_count": 8,
   "id": "c5001662-238f-4f51-ad2a-5c903effc612",
   "metadata": {},
   "outputs": [],
   "source": [
    "Z = linkage(D_condensed, 'ward', optimal_ordering = True)"
   ]
  },
  {
   "cell_type": "markdown",
   "id": "345fdb5a-3979-48e7-b998-5e3fc4c76004",
   "metadata": {},
   "source": [
    "It can be seen that aparently the best number of clusters is then 7"
   ]
  },
  {
   "cell_type": "code",
   "execution_count": 9,
   "id": "5ffca2b8-e4f8-4415-8d52-f882f0d7e36a",
   "metadata": {},
   "outputs": [
    {
     "name": "stdout",
     "output_type": "stream",
     "text": [
      "3\n",
      "0.04221048137065386\n",
      "4\n",
      "0.044665384454622925\n",
      "5\n",
      "0.04965704643742622\n",
      "6\n",
      "0.051408559601023016\n",
      "7\n",
      "0.054939218373783294\n",
      "8\n",
      "0.04584163254280825\n",
      "9\n",
      "0.045686727224263174\n"
     ]
    }
   ],
   "source": [
    "for i in range(3, 10):\n",
    "    print(i)\n",
    "    labels = fcluster(Z, i, criterion=\"maxclust\")\n",
    "    score = silhouette_score(D_matrix, labels, metric='precomputed')\n",
    "    print(score)"
   ]
  },
  {
   "cell_type": "markdown",
   "id": "056e0899-1032-45a4-8e4e-89f1b36446ad",
   "metadata": {
    "tags": []
   },
   "source": [
    "## Importing the custom function and getting the weights"
   ]
  },
  {
   "cell_type": "code",
   "execution_count": 5,
   "id": "f257420d-7a26-4863-b26b-31fe1704c242",
   "metadata": {},
   "outputs": [],
   "source": [
    "import hcaa_implementation"
   ]
  },
  {
   "cell_type": "code",
   "execution_count": 11,
   "id": "f25adee7",
   "metadata": {},
   "outputs": [],
   "source": [
    "import csestimator"
   ]
  },
  {
   "cell_type": "markdown",
   "id": "f0316dbd-6233-4c49-897e-5adcd6289b6a",
   "metadata": {},
   "source": [
    "The function receives as an input a numpy matrix of dimentions $n x t$ and the number of clusters wanted"
   ]
  },
  {
   "cell_type": "code",
   "execution_count": 12,
   "id": "531fe5e6",
   "metadata": {},
   "outputs": [],
   "source": [
    "def wrapper_function_cluster(X_matrix):\n",
    "    return csestimator.get_shrinkage_est(X_matrix, alpha = 0.5)"
   ]
  },
  {
   "cell_type": "code",
   "execution_count": 13,
   "id": "ee271d9b-dee4-4830-8f1a-9b8c67913850",
   "metadata": {},
   "outputs": [
    {
     "name": "stderr",
     "output_type": "stream",
     "text": [
      "/home/dum/miniconda3/lib/python3.9/site-packages/numpy/lib/function_base.py:2691: RuntimeWarning: invalid value encountered in true_divide\n",
      "  c /= stddev[:, None]\n",
      "/home/dum/miniconda3/lib/python3.9/site-packages/numpy/lib/function_base.py:2692: RuntimeWarning: invalid value encountered in true_divide\n",
      "  c /= stddev[None, :]\n"
     ]
    },
    {
     "ename": "LinAlgError",
     "evalue": "Array must not contain infs or NaNs",
     "output_type": "error",
     "traceback": [
      "\u001b[0;31m---------------------------------------------------------------------------\u001b[0m",
      "\u001b[0;31mLinAlgError\u001b[0m                               Traceback (most recent call last)",
      "\u001b[1;32m/home/dum/Documents/hcaa_implementation/implementation_hcaa.ipynb Cell 54'\u001b[0m in \u001b[0;36m<cell line: 1>\u001b[0;34m()\u001b[0m\n\u001b[0;32m----> <a href='vscode-notebook-cell:/home/dum/Documents/hcaa_implementation/implementation_hcaa.ipynb#ch0000051?line=0'>1</a>\u001b[0m index_assets, weight_assets \u001b[39m=\u001b[39m hcaa_implementation\u001b[39m.\u001b[39;49mhcaa_alocation(mat_X\u001b[39m=\u001b[39;49m psi20\u001b[39m.\u001b[39;49mvalues,n_clusters\u001b[39m=\u001b[39;49m \u001b[39m7\u001b[39;49m, custom_corr\u001b[39m=\u001b[39;49m wrapper_function_cluster)\n",
      "File \u001b[0;32m~/Documents/hcaa_implementation/hcaa_implementation/hcaa_implementation.py:58\u001b[0m, in \u001b[0;36mhcaa_alocation\u001b[0;34m(mat_X, n_clusters, custom_corr)\u001b[0m\n\u001b[1;32m     <a href='file:///home/dum/Documents/hcaa_implementation/hcaa_implementation/hcaa_implementation.py?line=55'>56</a>\u001b[0m \u001b[39mdef\u001b[39;00m \u001b[39mhcaa_alocation\u001b[39m(mat_X: np\u001b[39m.\u001b[39mmatrix, n_clusters:\u001b[39mint\u001b[39m, custom_corr: function \u001b[39m=\u001b[39mnp\u001b[39m.\u001b[39mcorrcoef )\u001b[39m-\u001b[39m\u001b[39m>\u001b[39m\u001b[39mtuple\u001b[39m:\n\u001b[1;32m     <a href='file:///home/dum/Documents/hcaa_implementation/hcaa_implementation/hcaa_implementation.py?line=56'>57</a>\u001b[0m     \u001b[39m# Convertir matriz de datos en matriz de distancias\u001b[39;00m\n\u001b[0;32m---> <a href='file:///home/dum/Documents/hcaa_implementation/hcaa_implementation/hcaa_implementation.py?line=57'>58</a>\u001b[0m     E_matrix \u001b[39m=\u001b[39m custom_corr(mat_X\u001b[39m.\u001b[39;49mT)\n\u001b[1;32m     <a href='file:///home/dum/Documents/hcaa_implementation/hcaa_implementation/hcaa_implementation.py?line=58'>59</a>\u001b[0m     D_matrix \u001b[39m=\u001b[39m np\u001b[39m.\u001b[39msqrt(\u001b[39m2\u001b[39m\u001b[39m*\u001b[39m(\u001b[39m1\u001b[39m\u001b[39m-\u001b[39m E_matrix))\n\u001b[1;32m     <a href='file:///home/dum/Documents/hcaa_implementation/hcaa_implementation/hcaa_implementation.py?line=59'>60</a>\u001b[0m     D_matrix \u001b[39m=\u001b[39m np\u001b[39m.\u001b[39maround(D_matrix, decimals\u001b[39m=\u001b[39m\u001b[39m7\u001b[39m)\n",
      "\u001b[1;32m/home/dum/Documents/hcaa_implementation/implementation_hcaa.ipynb Cell 53'\u001b[0m in \u001b[0;36mwrapper_function_cluster\u001b[0;34m(X_matrix)\u001b[0m\n\u001b[1;32m      <a href='vscode-notebook-cell:/home/dum/Documents/hcaa_implementation/implementation_hcaa.ipynb#ch0000059?line=0'>1</a>\u001b[0m \u001b[39mdef\u001b[39;00m \u001b[39mwrapper_function_cluster\u001b[39m(X_matrix):\n\u001b[0;32m----> <a href='vscode-notebook-cell:/home/dum/Documents/hcaa_implementation/implementation_hcaa.ipynb#ch0000059?line=1'>2</a>\u001b[0m     \u001b[39mreturn\u001b[39;00m csestimator\u001b[39m.\u001b[39;49mget_shrinkage_est(X_matrix, alpha \u001b[39m=\u001b[39;49m \u001b[39m0.5\u001b[39;49m)\n",
      "File \u001b[0;32m~/Documents/clustering_shrinkage_estimator/csestimator/clustering_shrinkage_estimator.py:49\u001b[0m, in \u001b[0;36mget_shrinkage_est\u001b[0;34m(X_matrix, alpha)\u001b[0m\n\u001b[1;32m     <a href='file:///home/dum/Documents/clustering_shrinkage_estimator/csestimator/clustering_shrinkage_estimator.py?line=46'>47</a>\u001b[0m N \u001b[39m=\u001b[39m X_matrix\u001b[39m.\u001b[39mshape[\u001b[39m1\u001b[39m]\n\u001b[1;32m     <a href='file:///home/dum/Documents/clustering_shrinkage_estimator/csestimator/clustering_shrinkage_estimator.py?line=47'>48</a>\u001b[0m T \u001b[39m=\u001b[39m X_matrix\u001b[39m.\u001b[39mshape[\u001b[39m0\u001b[39m]\n\u001b[0;32m---> <a href='file:///home/dum/Documents/clustering_shrinkage_estimator/csestimator/clustering_shrinkage_estimator.py?line=48'>49</a>\u001b[0m K \u001b[39m=\u001b[39m get_optimal_K(R_matrix,N,T)\n\u001b[1;32m     <a href='file:///home/dum/Documents/clustering_shrinkage_estimator/csestimator/clustering_shrinkage_estimator.py?line=49'>50</a>\u001b[0m \u001b[39m# NOTA, AQUÍ SE USA UN RANDOM STATE DIFERENTE PARA HACER LOS CLUSTERINGS, LO QUE PUEDE OCASIONAR QUE\u001b[39;00m\n\u001b[1;32m     <a href='file:///home/dum/Documents/clustering_shrinkage_estimator/csestimator/clustering_shrinkage_estimator.py?line=50'>51</a>\u001b[0m \u001b[39m# LAS INSTANCIAS NO SIEMPRE SEAN ASIGNADAS AL MISMO CLUSTER Y POR LO TANTO NO SIEMPRE SE OBTENGA EL MISMO RESULTADO\u001b[39;00m\n\u001b[1;32m     <a href='file:///home/dum/Documents/clustering_shrinkage_estimator/csestimator/clustering_shrinkage_estimator.py?line=51'>52</a>\u001b[0m \u001b[39m# AL EJECUTAR LA FUNCIÓN. SE ESTABLECE RANDOM STATE PARA REPRODUCIR RESULTADOS.\u001b[39;00m\n\u001b[1;32m     <a href='file:///home/dum/Documents/clustering_shrinkage_estimator/csestimator/clustering_shrinkage_estimator.py?line=52'>53</a>\u001b[0m C_kmeans \u001b[39m=\u001b[39m KMeans(n_clusters\u001b[39m=\u001b[39mK, random_state \u001b[39m=\u001b[39m \u001b[39m0\u001b[39m, init\u001b[39m=\u001b[39m\u001b[39m'\u001b[39m\u001b[39mk-means++\u001b[39m\u001b[39m'\u001b[39m)\u001b[39m.\u001b[39mfit(D_matrix)\n",
      "File \u001b[0;32m~/Documents/clustering_shrinkage_estimator/csestimator/clustering_shrinkage_estimator.py:10\u001b[0m, in \u001b[0;36mget_optimal_K\u001b[0;34m(R_matrix, N, T)\u001b[0m\n\u001b[1;32m      <a href='file:///home/dum/Documents/clustering_shrinkage_estimator/csestimator/clustering_shrinkage_estimator.py?line=7'>8</a>\u001b[0m q \u001b[39m=\u001b[39m N\u001b[39m/\u001b[39mT\n\u001b[1;32m      <a href='file:///home/dum/Documents/clustering_shrinkage_estimator/csestimator/clustering_shrinkage_estimator.py?line=8'>9</a>\u001b[0m lambda_plus \u001b[39m=\u001b[39m (\u001b[39m1\u001b[39m \u001b[39m+\u001b[39m np\u001b[39m.\u001b[39msqrt(q))\u001b[39m*\u001b[39m\u001b[39m*\u001b[39m\u001b[39m2\u001b[39m\n\u001b[0;32m---> <a href='file:///home/dum/Documents/clustering_shrinkage_estimator/csestimator/clustering_shrinkage_estimator.py?line=9'>10</a>\u001b[0m lambdas_i \u001b[39m=\u001b[39m LA\u001b[39m.\u001b[39;49meigvals(R_matrix)\n\u001b[1;32m     <a href='file:///home/dum/Documents/clustering_shrinkage_estimator/csestimator/clustering_shrinkage_estimator.py?line=10'>11</a>\u001b[0m K \u001b[39m=\u001b[39m np\u001b[39m.\u001b[39msum(lambdas_i \u001b[39m>\u001b[39m lambda_plus)\n\u001b[1;32m     <a href='file:///home/dum/Documents/clustering_shrinkage_estimator/csestimator/clustering_shrinkage_estimator.py?line=11'>12</a>\u001b[0m \u001b[39mreturn\u001b[39;00m K\n",
      "File \u001b[0;32m<__array_function__ internals>:5\u001b[0m, in \u001b[0;36meigvals\u001b[0;34m(*args, **kwargs)\u001b[0m\n",
      "File \u001b[0;32m~/miniconda3/lib/python3.9/site-packages/numpy/linalg/linalg.py:1062\u001b[0m, in \u001b[0;36meigvals\u001b[0;34m(a)\u001b[0m\n\u001b[1;32m   <a href='file:///home/dum/miniconda3/lib/python3.9/site-packages/numpy/linalg/linalg.py?line=1059'>1060</a>\u001b[0m _assert_stacked_2d(a)\n\u001b[1;32m   <a href='file:///home/dum/miniconda3/lib/python3.9/site-packages/numpy/linalg/linalg.py?line=1060'>1061</a>\u001b[0m _assert_stacked_square(a)\n\u001b[0;32m-> <a href='file:///home/dum/miniconda3/lib/python3.9/site-packages/numpy/linalg/linalg.py?line=1061'>1062</a>\u001b[0m _assert_finite(a)\n\u001b[1;32m   <a href='file:///home/dum/miniconda3/lib/python3.9/site-packages/numpy/linalg/linalg.py?line=1062'>1063</a>\u001b[0m t, result_t \u001b[39m=\u001b[39m _commonType(a)\n\u001b[1;32m   <a href='file:///home/dum/miniconda3/lib/python3.9/site-packages/numpy/linalg/linalg.py?line=1064'>1065</a>\u001b[0m extobj \u001b[39m=\u001b[39m get_linalg_error_extobj(\n\u001b[1;32m   <a href='file:///home/dum/miniconda3/lib/python3.9/site-packages/numpy/linalg/linalg.py?line=1065'>1066</a>\u001b[0m     _raise_linalgerror_eigenvalues_nonconvergence)\n",
      "File \u001b[0;32m~/miniconda3/lib/python3.9/site-packages/numpy/linalg/linalg.py:208\u001b[0m, in \u001b[0;36m_assert_finite\u001b[0;34m(*arrays)\u001b[0m\n\u001b[1;32m    <a href='file:///home/dum/miniconda3/lib/python3.9/site-packages/numpy/linalg/linalg.py?line=205'>206</a>\u001b[0m \u001b[39mfor\u001b[39;00m a \u001b[39min\u001b[39;00m arrays:\n\u001b[1;32m    <a href='file:///home/dum/miniconda3/lib/python3.9/site-packages/numpy/linalg/linalg.py?line=206'>207</a>\u001b[0m     \u001b[39mif\u001b[39;00m \u001b[39mnot\u001b[39;00m isfinite(a)\u001b[39m.\u001b[39mall():\n\u001b[0;32m--> <a href='file:///home/dum/miniconda3/lib/python3.9/site-packages/numpy/linalg/linalg.py?line=207'>208</a>\u001b[0m         \u001b[39mraise\u001b[39;00m LinAlgError(\u001b[39m\"\u001b[39m\u001b[39mArray must not contain infs or NaNs\u001b[39m\u001b[39m\"\u001b[39m)\n",
      "\u001b[0;31mLinAlgError\u001b[0m: Array must not contain infs or NaNs"
     ]
    }
   ],
   "source": [
    "index_assets, weight_assets = hcaa_implementation.hcaa_alocation(mat_X= psi20.values,n_clusters= 7, custom_corr= wrapper_function_cluster)"
   ]
  },
  {
   "cell_type": "markdown",
   "id": "2faae0d0-f8ff-46cf-983d-442a9254278e",
   "metadata": {},
   "source": [
    "The function returns the index of the assets (as in the original data matrxi) and the respective capital allocaction for that asset"
   ]
  },
  {
   "cell_type": "code",
   "execution_count": 7,
   "id": "7c43f0ff-93a2-4ef3-a090-e96fe15b90ba",
   "metadata": {},
   "outputs": [
    {
     "data": {
      "text/plain": [
       "[10, 15, 5, 6, 1, 0, 11, 14, 12, 7, 2, 9, 3, 4, 13, 8]"
      ]
     },
     "execution_count": 7,
     "metadata": {},
     "output_type": "execute_result"
    }
   ],
   "source": [
    "index_assets"
   ]
  },
  {
   "cell_type": "code",
   "execution_count": 8,
   "id": "e0f840c1-2b23-421a-a9da-8b3edfd158ec",
   "metadata": {},
   "outputs": [
    {
     "data": {
      "text/plain": [
       "Index(['NOS.LS', 'SON.LS', 'EGL.LS', 'GALP.LS', 'BCP.LS', 'ALTR.LS', 'NVG.LS',\n",
       "       'SEM.LS', 'PHR.LS', 'IBS.LS', 'COR.LS', 'NBA.LS', 'EDP.LS', 'EDPR.LS',\n",
       "       'RENE.LS', 'JMT.LS'],\n",
       "      dtype='object')"
      ]
     },
     "execution_count": 8,
     "metadata": {},
     "output_type": "execute_result"
    }
   ],
   "source": [
    "psi20.columns[index_assets]"
   ]
  },
  {
   "cell_type": "code",
   "execution_count": 9,
   "id": "2e3f812f-7bf2-4471-be81-6f20f51ff21c",
   "metadata": {},
   "outputs": [
    {
     "data": {
      "text/plain": [
       "[0.03125,\n",
       " 0.03125,\n",
       " 0.03125,\n",
       " 0.03125,\n",
       " 0.03125,\n",
       " 0.03125,\n",
       " 0.03125,\n",
       " 0.03125,\n",
       " 0.125,\n",
       " 0.125,\n",
       " 0.125,\n",
       " 0.125,\n",
       " 0.041667,\n",
       " 0.041667,\n",
       " 0.041667,\n",
       " 0.125]"
      ]
     },
     "execution_count": 9,
     "metadata": {},
     "output_type": "execute_result"
    }
   ],
   "source": [
    "weight_assets"
   ]
  },
  {
   "cell_type": "code",
   "execution_count": 10,
   "id": "1d1757ce-2083-4b7e-8a30-552fdf67db13",
   "metadata": {},
   "outputs": [
    {
     "data": {
      "text/plain": [
       "{'NOS.LS': 0.03125,\n",
       " 'SON.LS': 0.03125,\n",
       " 'EGL.LS': 0.03125,\n",
       " 'GALP.LS': 0.03125,\n",
       " 'BCP.LS': 0.03125,\n",
       " 'ALTR.LS': 0.03125,\n",
       " 'NVG.LS': 0.03125,\n",
       " 'SEM.LS': 0.03125,\n",
       " 'PHR.LS': 0.125,\n",
       " 'IBS.LS': 0.125,\n",
       " 'COR.LS': 0.125,\n",
       " 'NBA.LS': 0.125,\n",
       " 'EDP.LS': 0.041667,\n",
       " 'EDPR.LS': 0.041667,\n",
       " 'RENE.LS': 0.041667,\n",
       " 'JMT.LS': 0.125}"
      ]
     },
     "execution_count": 10,
     "metadata": {},
     "output_type": "execute_result"
    }
   ],
   "source": [
    "dict(zip(psi20.columns[index_assets], weight_assets))"
   ]
  }
 ],
 "metadata": {
  "interpreter": {
   "hash": "5bdf93513826235fc1cd8e4eb1b59842c36a611b96aad9527e1abb22917bc0d2"
  },
  "kernelspec": {
   "display_name": "Python 3.9.7 ('base')",
   "language": "python",
   "name": "python3"
  },
  "language_info": {
   "codemirror_mode": {
    "name": "ipython",
    "version": 3
   },
   "file_extension": ".py",
   "mimetype": "text/x-python",
   "name": "python",
   "nbconvert_exporter": "python",
   "pygments_lexer": "ipython3",
   "version": "3.9.7"
  }
 },
 "nbformat": 4,
 "nbformat_minor": 5
}
