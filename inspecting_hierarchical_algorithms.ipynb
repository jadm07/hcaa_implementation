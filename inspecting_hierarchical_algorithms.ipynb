{
 "cells": [
  {
   "cell_type": "code",
   "execution_count": 2,
   "metadata": {
    "id": "OkqsiH8ffFkw"
   },
   "outputs": [],
   "source": [
    "from scipy.cluster.hierarchy import dendrogram, linkage, fcluster, leaves_list, to_tree, cut_tree, leaders\n",
    "from matplotlib import pyplot as plt\n",
    "import numpy as np\n",
    "X = [[i] for i in [2, 8, 0, 4, 1, 9, 9, 0]]"
   ]
  },
  {
   "cell_type": "code",
   "execution_count": 14,
   "metadata": {
    "colab": {
     "base_uri": "https://localhost:8080/",
     "height": 550
    },
    "id": "vJT8gpTVf6YI",
    "outputId": "4c5fcbdd-0c06-44d0-c05d-12a5232589d8"
   },
   "outputs": [
    {
     "data": {
      "image/png": "[encoded data removed]",
      "text/plain": [
       "<Figure size 1800x720 with 1 Axes>"
      ]
     },
     "metadata": {
      "needs_background": "light"
     },
     "output_type": "display_data"
    }
   ],
   "source": [
    "Z = linkage(X, 'ward', optimal_ordering = True)\n",
    "fig = plt.figure(figsize=(25, 10))\n",
    "dn = dendrogram(Z)"
   ]
  },
  {
   "cell_type": "code",
   "execution_count": 3,
   "metadata": {
    "colab": {
     "base_uri": "https://localhost:8080/"
    },
    "id": "Kyvf92XQf-E1",
    "outputId": "f5000a66-8205-453c-9e22-58765542af7b"
   },
   "outputs": [
    {
     "data": {
      "text/plain": [
       "(7, 4)"
      ]
     },
     "execution_count": 3,
     "metadata": {},
     "output_type": "execute_result"
    }
   ],
   "source": [
    "Z.shape"
   ]
  },
  {
   "cell_type": "code",
   "execution_count": 4,
   "metadata": {
    "colab": {
     "base_uri": "https://localhost:8080/"
    },
    "id": "oDZ0f8nmgbHb",
    "outputId": "b66cccb4-4a35-49b7-cfd5-86e8e38aa325"
   },
   "outputs": [
    {
     "data": {
      "text/plain": [
       "array([[ 5.        ,  6.        ,  0.        ,  2.        ],\n",
       "       [ 7.        ,  2.        ,  0.        ,  2.        ],\n",
       "       [ 0.        ,  4.        ,  1.        ,  2.        ],\n",
       "       [ 8.        ,  1.        ,  1.15470054,  3.        ],\n",
       "       [10.        ,  9.        ,  2.12132034,  4.        ],\n",
       "       [ 3.        , 12.        ,  4.11096096,  5.        ],\n",
       "       [11.        , 13.        , 14.07183949,  8.        ]])"
      ]
     },
     "execution_count": 4,
     "metadata": {},
     "output_type": "execute_result"
    }
   ],
   "source": [
    "Z"
   ]
  },
  {
   "cell_type": "markdown",
   "metadata": {
    "id": "gKv6KeIZrz2o"
   },
   "source": [
    "Para ver que elementos hay en el nodo 13, hay que calcular $13 - 8$"
   ]
  },
  {
   "cell_type": "code",
   "execution_count": 5,
   "metadata": {
    "colab": {
     "base_uri": "https://localhost:8080/"
    },
    "id": "4U8KiR0UhM8b",
    "outputId": "a3828623-d6f2-4054-9f22-f0053f2b5a92"
   },
   "outputs": [
    {
     "data": {
      "text/plain": [
       "array([ 3.        , 12.        ,  4.11096096,  5.        ])"
      ]
     },
     "execution_count": 5,
     "metadata": {},
     "output_type": "execute_result"
    }
   ],
   "source": [
    "Z[13-8]"
   ]
  },
  {
   "cell_type": "code",
   "execution_count": null,
   "metadata": {
    "colab": {
     "base_uri": "https://localhost:8080/"
    },
    "id": "rvzZHymfiUoC",
    "outputId": "34307754-ed78-4c3c-ffe6-1b65cd1a05b8"
   },
   "outputs": [
    {
     "data": {
      "text/plain": [
       "array([7., 2., 0., 2.])"
      ]
     },
     "execution_count": 18,
     "metadata": {},
     "output_type": "execute_result"
    }
   ],
   "source": [
    "Z[9-8]"
   ]
  },
  {
   "cell_type": "markdown",
   "metadata": {
    "id": "9m19jSb7jE25"
   },
   "source": [
    "Elementos en el cluster ID 13 (que es el número 3 y el cluster 12)"
   ]
  },
  {
   "cell_type": "code",
   "execution_count": null,
   "metadata": {
    "colab": {
     "base_uri": "https://localhost:8080/"
    },
    "id": "KQpZFPaUiXD5",
    "outputId": "a83a4e15-71e1-429e-8283-2d157d1e50d1"
   },
   "outputs": [
    {
     "data": {
      "text/plain": [
       "array([ 3.        , 12.        ,  4.11096096,  5.        ])"
      ]
     },
     "execution_count": 19,
     "metadata": {},
     "output_type": "execute_result"
    }
   ],
   "source": [
    "Z[13-8]\n"
   ]
  },
  {
   "cell_type": "markdown",
   "metadata": {
    "id": "cIYjK4aHjkUt"
   },
   "source": [
    "Elementos en el cluster ID 12 ( que son el cluster 10 y el cluster 9)"
   ]
  },
  {
   "cell_type": "code",
   "execution_count": null,
   "metadata": {
    "colab": {
     "base_uri": "https://localhost:8080/"
    },
    "id": "kVexsauLi8TJ",
    "outputId": "5ff28b91-0647-4285-eb0e-3ed3c8932ad8"
   },
   "outputs": [
    {
     "data": {
      "text/plain": [
       "array([10.        ,  9.        ,  2.12132034,  4.        ])"
      ]
     },
     "execution_count": 23,
     "metadata": {},
     "output_type": "execute_result"
    }
   ],
   "source": [
    "Z[12-8]"
   ]
  },
  {
   "cell_type": "markdown",
   "metadata": {
    "id": "R0VV2zYRjzkf"
   },
   "source": [
    "Elementos en el cluster 10 (que son número 0 y 4)"
   ]
  },
  {
   "cell_type": "code",
   "execution_count": null,
   "metadata": {
    "colab": {
     "base_uri": "https://localhost:8080/"
    },
    "id": "1s0CQpKdjt1O",
    "outputId": "149db29a-fb67-4e55-a78f-541f6af08182"
   },
   "outputs": [
    {
     "data": {
      "text/plain": [
       "array([0., 4., 1., 2.])"
      ]
     },
     "execution_count": 26,
     "metadata": {},
     "output_type": "execute_result"
    }
   ],
   "source": [
    "Z[10-8]"
   ]
  },
  {
   "cell_type": "markdown",
   "metadata": {
    "id": "hAhWruC4j2Kg"
   },
   "source": [
    "Elementos en el cluster 9 (que son números 7 y 2)"
   ]
  },
  {
   "cell_type": "code",
   "execution_count": null,
   "metadata": {
    "colab": {
     "base_uri": "https://localhost:8080/"
    },
    "id": "0BupHgF9jwpG",
    "outputId": "48b602d8-5a18-4b02-8209-fd3d4a79536f"
   },
   "outputs": [
    {
     "data": {
      "text/plain": [
       "array([7., 2., 0., 2.])"
      ]
     },
     "execution_count": 27,
     "metadata": {},
     "output_type": "execute_result"
    }
   ],
   "source": [
    "Z[9-8]"
   ]
  },
  {
   "cell_type": "markdown",
   "metadata": {
    "id": "fY_p-Q5wsCXP"
   },
   "source": [
    "Se puede ver entonces que en el cluster 13 están los elementos cuyos índices son 3, 0, 4, 7 y 2, que son los valores 4, 2, 1, 0 y 0"
   ]
  },
  {
   "cell_type": "code",
   "execution_count": 26,
   "metadata": {
    "colab": {
     "base_uri": "https://localhost:8080/"
    },
    "id": "GUbZe8njsUjx",
    "outputId": "0653be94-7580-4051-cebd-192b48058af2"
   },
   "outputs": [
    {
     "data": {
      "text/plain": [
       "[0]"
      ]
     },
     "execution_count": 26,
     "metadata": {},
     "output_type": "execute_result"
    }
   ],
   "source": [
    "X[2]"
   ]
  },
  {
   "cell_type": "markdown",
   "metadata": {
    "id": "aoD1ZgxyjI9M"
   },
   "source": [
    "Elementos en el cluster ID 11 ( que es el número 1 y el cluster 8)"
   ]
  },
  {
   "cell_type": "code",
   "execution_count": null,
   "metadata": {
    "colab": {
     "base_uri": "https://localhost:8080/"
    },
    "id": "m6r_fOGlixFO",
    "outputId": "b280388a-a394-4290-8e67-4c852e5bbb12"
   },
   "outputs": [
    {
     "data": {
      "text/plain": [
       "array([8.        , 1.        , 1.15470054, 3.        ])"
      ]
     },
     "execution_count": 21,
     "metadata": {},
     "output_type": "execute_result"
    }
   ],
   "source": [
    "Z[11-8]"
   ]
  },
  {
   "cell_type": "markdown",
   "metadata": {
    "id": "ln6OXBNHjOn_"
   },
   "source": [
    "Elementos en el cluster ID 8 (que son el 5 y el 6)"
   ]
  },
  {
   "cell_type": "code",
   "execution_count": null,
   "metadata": {
    "colab": {
     "base_uri": "https://localhost:8080/"
    },
    "id": "lC4B0zS4i6IB",
    "outputId": "0fd36343-fa88-45c5-d5a7-ce71e10ca95b"
   },
   "outputs": [
    {
     "data": {
      "text/plain": [
       "array([5., 6., 0., 2.])"
      ]
     },
     "execution_count": 22,
     "metadata": {},
     "output_type": "execute_result"
    }
   ],
   "source": [
    "Z[8-8]"
   ]
  },
  {
   "cell_type": "code",
   "execution_count": 6,
   "metadata": {
    "colab": {
     "base_uri": "https://localhost:8080/"
    },
    "id": "2CbZ_9YJlYk8",
    "outputId": "f825cf13-b23e-4006-d8b8-30433d5da8ca"
   },
   "outputs": [
    {
     "data": {
      "text/plain": [
       "array([2, 1, 2, 3, 2, 1, 1, 2], dtype=int32)"
      ]
     },
     "execution_count": 6,
     "metadata": {},
     "output_type": "execute_result"
    }
   ],
   "source": [
    "fcluster(Z, 3, criterion=\"maxclust\")"
   ]
  },
  {
   "cell_type": "code",
   "execution_count": null,
   "metadata": {
    "colab": {
     "base_uri": "https://localhost:8080/"
    },
    "id": "uuq-M8F4l0Kn",
    "outputId": "510f39d4-636b-42ac-e7f8-0dee666ae53d"
   },
   "outputs": [
    {
     "data": {
      "text/plain": [
       "[2]"
      ]
     },
     "execution_count": 30,
     "metadata": {},
     "output_type": "execute_result"
    }
   ],
   "source": [
    "X[0]"
   ]
  },
  {
   "cell_type": "code",
   "execution_count": null,
   "metadata": {
    "colab": {
     "base_uri": "https://localhost:8080/"
    },
    "id": "o5JVy5iel2GP",
    "outputId": "5da6df7c-2039-4914-a52f-fe5a6f74e440"
   },
   "outputs": [
    {
     "data": {
      "text/plain": [
       "[0]"
      ]
     },
     "execution_count": 31,
     "metadata": {},
     "output_type": "execute_result"
    }
   ],
   "source": [
    "X[2]"
   ]
  },
  {
   "cell_type": "code",
   "execution_count": null,
   "metadata": {
    "colab": {
     "base_uri": "https://localhost:8080/"
    },
    "id": "nchm6mahl6I_",
    "outputId": "9dd43024-070d-4a43-b196-f2fa6641ad5b"
   },
   "outputs": [
    {
     "data": {
      "text/plain": [
       "[1]"
      ]
     },
     "execution_count": 32,
     "metadata": {},
     "output_type": "execute_result"
    }
   ],
   "source": [
    "\n",
    "X[4]"
   ]
  },
  {
   "cell_type": "code",
   "execution_count": null,
   "metadata": {
    "colab": {
     "base_uri": "https://localhost:8080/"
    },
    "id": "oqKW52FIl7bv",
    "outputId": "7093b488-12bd-4818-c43a-da4486da4aef"
   },
   "outputs": [
    {
     "data": {
      "text/plain": [
       "[0]"
      ]
     },
     "execution_count": 33,
     "metadata": {},
     "output_type": "execute_result"
    }
   ],
   "source": [
    "X[7]"
   ]
  },
  {
   "cell_type": "code",
   "execution_count": 7,
   "metadata": {
    "colab": {
     "base_uri": "https://localhost:8080/"
    },
    "id": "KiekztU6mMAc",
    "outputId": "dbf3476f-0103-45d4-9fb4-bd27ad1d9c89"
   },
   "outputs": [
    {
     "data": {
      "text/plain": [
       "array([5, 6, 1, 3, 0, 4, 7, 2], dtype=int32)"
      ]
     },
     "execution_count": 7,
     "metadata": {},
     "output_type": "execute_result"
    }
   ],
   "source": [
    "leaves_list(Z)"
   ]
  },
  {
   "cell_type": "markdown",
   "metadata": {
    "id": "_SaUpumzo2XB"
   },
   "source": [
    "Aquí el to_tree regresa un \"nodo\" que apunta al nodo más alto (con más elementos) del árbol"
   ]
  },
  {
   "cell_type": "code",
   "execution_count": 32,
   "metadata": {
    "id": "M6YHyLiapPmS"
   },
   "outputs": [],
   "source": [
    "aber = to_tree(Z)"
   ]
  },
  {
   "cell_type": "code",
   "execution_count": 9,
   "metadata": {
    "colab": {
     "base_uri": "https://localhost:8080/"
    },
    "id": "zRScxKGdpjcw",
    "outputId": "4c2093d6-814b-4745-f204-f8fcdd9d31d2"
   },
   "outputs": [
    {
     "data": {
      "text/plain": [
       "3"
      ]
     },
     "execution_count": 9,
     "metadata": {},
     "output_type": "execute_result"
    }
   ],
   "source": [
    "aber.right.left.id"
   ]
  },
  {
   "cell_type": "code",
   "execution_count": 35,
   "metadata": {
    "id": "VNz3qzVdo9Sz"
   },
   "outputs": [],
   "source": [
    "aber2 = cut_tree(Z, n_clusters=[1,2,3,4,5])"
   ]
  },
  {
   "cell_type": "code",
   "execution_count": 29,
   "metadata": {
    "colab": {
     "base_uri": "https://localhost:8080/"
    },
    "id": "iU6qxU6btCnP",
    "outputId": "193b0404-8796-467c-f51b-a763feb131d0"
   },
   "outputs": [
    {
     "data": {
      "text/plain": [
       "[2]"
      ]
     },
     "execution_count": 29,
     "metadata": {},
     "output_type": "execute_result"
    }
   ],
   "source": [
    "X[0]"
   ]
  },
  {
   "cell_type": "code",
   "execution_count": 23,
   "metadata": {
    "colab": {
     "base_uri": "https://localhost:8080/"
    },
    "id": "YbwgPyZBpLAk",
    "outputId": "0a8df2e5-57e9-4c17-aa40-88c79becd7ff"
   },
   "outputs": [
    {
     "data": {
      "text/plain": [
       "array([[0, 0, 0, 0, 0],\n",
       "       [0, 1, 1, 1, 1],\n",
       "       [0, 0, 0, 2, 2],\n",
       "       [0, 0, 2, 3, 3],\n",
       "       [0, 0, 0, 0, 0],\n",
       "       [0, 1, 1, 1, 4],\n",
       "       [0, 1, 1, 1, 4],\n",
       "       [0, 0, 0, 2, 2]])"
      ]
     },
     "execution_count": 23,
     "metadata": {},
     "output_type": "execute_result"
    }
   ],
   "source": [
    "aber2"
   ]
  },
  {
   "cell_type": "markdown",
   "metadata": {
    "id": "K65YzisCvDm3"
   },
   "source": [
    "Supongamos que se quieren 3 clusters, y a partir de la matriz Z se quiere saber el nivel de alocación de cada cluster, se accede a la última fila de la matriz Z y así se sabe que se está entrando a la primera división del cluster"
   ]
  },
  {
   "cell_type": "code",
   "execution_count": 12,
   "metadata": {
    "colab": {
     "base_uri": "https://localhost:8080/"
    },
    "id": "emshDMsUvCGl",
    "outputId": "bce3ac3f-bd5b-492d-df5a-edb0e80a2d59"
   },
   "outputs": [
    {
     "data": {
      "text/plain": [
       "array([11.        , 13.        , 14.07183949,  8.        ])"
      ]
     },
     "execution_count": 12,
     "metadata": {},
     "output_type": "execute_result"
    }
   ],
   "source": [
    "Z[-1]"
   ]
  },
  {
   "cell_type": "markdown",
   "metadata": {
    "id": "4bo-gNWWwy2S"
   },
   "source": [
    "Aquí se indica que se está en el nodo "
   ]
  },
  {
   "cell_type": "code",
   "execution_count": 13,
   "metadata": {
    "id": "TjcZLUWzvCyh"
   },
   "outputs": [],
   "source": [
    "izq = aber.left\n",
    "der = aber.right"
   ]
  },
  {
   "cell_type": "markdown",
   "metadata": {
    "id": "jsDLU3JF_l8X"
   },
   "source": [
    "Vamos a ver la distancia de cada nodo (el primero que se divide es el que tenga la distancia más grande). En este caso es el de la derecha:"
   ]
  },
  {
   "cell_type": "code",
   "execution_count": 14,
   "metadata": {
    "colab": {
     "base_uri": "https://localhost:8080/"
    },
    "id": "njXwS3wkx6RC",
    "outputId": "76c1d56e-3425-4b5c-8943-719b5fd47c0a"
   },
   "outputs": [
    {
     "data": {
      "text/plain": [
       "1.1547005383792515"
      ]
     },
     "execution_count": 14,
     "metadata": {},
     "output_type": "execute_result"
    }
   ],
   "source": [
    "izq.dist"
   ]
  },
  {
   "cell_type": "code",
   "execution_count": 15,
   "metadata": {
    "colab": {
     "base_uri": "https://localhost:8080/"
    },
    "id": "ApI4iLb2x8Ru",
    "outputId": "ce99fe03-3bfe-4eed-c223-7701eadd2a33"
   },
   "outputs": [
    {
     "data": {
      "text/plain": [
       "4.110960958218893"
      ]
     },
     "execution_count": 15,
     "metadata": {},
     "output_type": "execute_result"
    }
   ],
   "source": [
    "der.dist"
   ]
  },
  {
   "cell_type": "markdown",
   "metadata": {
    "id": "4tGpdEKQAH6j"
   },
   "source": [
    "Se tiene que dividir el de la derecha, por lo tanto "
   ]
  },
  {
   "cell_type": "code",
   "execution_count": 16,
   "metadata": {
    "id": "wCWkQROPALSF"
   },
   "outputs": [],
   "source": [
    "der_der = der.right\n",
    "der_izq = der.left"
   ]
  },
  {
   "cell_type": "markdown",
   "metadata": {
    "id": "pO1NuCh-AUys"
   },
   "source": [
    "Con esto ya se tienen entonces 3 clusters. "
   ]
  },
  {
   "cell_type": "code",
   "execution_count": 17,
   "metadata": {
    "colab": {
     "base_uri": "https://localhost:8080/"
    },
    "id": "y3TAMfv0ASr0",
    "outputId": "4a275e23-fa06-4c38-a1cb-8e44e8cd774b"
   },
   "outputs": [
    {
     "data": {
      "text/plain": [
       "4"
      ]
     },
     "execution_count": 17,
     "metadata": {},
     "output_type": "execute_result"
    }
   ],
   "source": [
    "der_der."
   ]
  },
  {
   "cell_type": "code",
   "execution_count": 39,
   "metadata": {
    "colab": {
     "base_uri": "https://localhost:8080/"
    },
    "id": "RTNItib5x-V9",
    "outputId": "2ba0b092-4c65-4eab-e5fa-3faf2a171f74"
   },
   "outputs": [
    {
     "data": {
      "text/plain": [
       "13"
      ]
     },
     "execution_count": 39,
     "metadata": {},
     "output_type": "execute_result"
    }
   ],
   "source": [
    "der.id"
   ]
  },
  {
   "cell_type": "code",
   "execution_count": 41,
   "metadata": {
    "id": "e0-KQfZ51oLB"
   },
   "outputs": [],
   "source": [
    "T = fcluster(Z, 3, criterion=\"maxclust\")"
   ]
  },
  {
   "cell_type": "code",
   "execution_count": 43,
   "metadata": {
    "id": "h1AS0LeE1roH"
   },
   "outputs": [],
   "source": [
    "L, M = leaders(Z, T)"
   ]
  },
  {
   "cell_type": "code",
   "execution_count": 46,
   "metadata": {
    "colab": {
     "base_uri": "https://localhost:8080/"
    },
    "id": "OzrRwn-21xjS",
    "outputId": "425339c4-d497-4c25-b333-5cba7ec42bd8"
   },
   "outputs": [
    {
     "data": {
      "text/plain": [
       "array([3, 2, 1], dtype=int32)"
      ]
     },
     "execution_count": 46,
     "metadata": {},
     "output_type": "execute_result"
    }
   ],
   "source": [
    "M"
   ]
  },
  {
   "cell_type": "code",
   "execution_count": 24,
   "metadata": {
    "colab": {
     "base_uri": "https://localhost:8080/"
    },
    "id": "mezfJxqJ13IM",
    "outputId": "1d9a8c6c-198e-44bf-87b0-e3a4347064d7"
   },
   "outputs": [
    {
     "data": {
      "text/plain": [
       "array([[0, 0, 0, 0, 0],\n",
       "       [0, 1, 1, 1, 1],\n",
       "       [0, 0, 0, 2, 2],\n",
       "       [0, 0, 2, 3, 3],\n",
       "       [0, 0, 0, 0, 0],\n",
       "       [0, 1, 1, 1, 4],\n",
       "       [0, 1, 1, 1, 4],\n",
       "       [0, 0, 0, 2, 2]])"
      ]
     },
     "execution_count": 24,
     "metadata": {},
     "output_type": "execute_result"
    }
   ],
   "source": [
    "aber2"
   ]
  },
  {
   "cell_type": "markdown",
   "metadata": {
    "id": "SjFtyVz-PwPF",
    "jp-MarkdownHeadingCollapsed": true,
    "tags": []
   },
   "source": [
    "# Solución uno\n",
    "Primero se debe definir cuantos clusters se quieren. Con eso, se va a obtener la alocación de clusters para cada iteración, notándo que en la iteración i se tienen i +1 clusters (empezando por la iteración 0). Se define también un vector del tamaño de los clusters donde se va a guardar en que nivel se formó el cluster, notándo que si el cluster está en el nivel i entonces su alocación es de 1/(i+1) "
   ]
  },
  {
   "cell_type": "code",
   "execution_count": 222,
   "metadata": {
    "id": "VVpvteyQPZPH"
   },
   "outputs": [],
   "source": [
    "numero_clusters = 3\n",
    "aber2 = np.matrix(cut_tree(Z, n_clusters=range(1,numero_clusters+1)))\n",
    "niveles_de_clusters= np.zeros(numero_clusters)\n",
    "alocaciones_de_clusters= np.repeat(1.0, numero_clusters)"
   ]
  },
  {
   "cell_type": "markdown",
   "metadata": {
    "id": "UMznt6ISQ2in"
   },
   "source": [
    "Empezamos por la iteración 1"
   ]
  },
  {
   "cell_type": "code",
   "execution_count": 223,
   "metadata": {
    "id": "gtV_zQFhKiz1"
   },
   "outputs": [],
   "source": [
    "i = 1"
   ]
  },
  {
   "cell_type": "markdown",
   "metadata": {
    "id": "ebW5Mza9ROaP"
   },
   "source": [
    "Como en la iteración i se crea el cluster i, entonces también significa que el cluster i pertenece al nivel i, por lo que a continuación se especifica en el resultado que el cluster i pertenece al nivel i. En este caso, el cluster 1 pertenece al nivel 1"
   ]
  },
  {
   "cell_type": "code",
   "execution_count": 224,
   "metadata": {
    "id": "Nv9mJ-7nMIoD"
   },
   "outputs": [],
   "source": [
    "niveles_de_clusters[i] = i\n",
    "alocaciones_de_clusters[i] /= (2**i)"
   ]
  },
  {
   "cell_type": "code",
   "execution_count": 225,
   "metadata": {
    "colab": {
     "base_uri": "https://localhost:8080/"
    },
    "id": "hoOaUT85MO5T",
    "outputId": "2bb46514-58b9-4998-9994-11ba2366f144"
   },
   "outputs": [
    {
     "data": {
      "text/plain": [
       "array([0., 1., 0.])"
      ]
     },
     "execution_count": 225,
     "metadata": {},
     "output_type": "execute_result"
    }
   ],
   "source": [
    "niveles_de_clusters"
   ]
  },
  {
   "cell_type": "code",
   "execution_count": 226,
   "metadata": {
    "colab": {
     "base_uri": "https://localhost:8080/"
    },
    "id": "QGH4T_9oUQz-",
    "outputId": "d7aca7b6-ba37-4446-8ef7-449232c58add"
   },
   "outputs": [
    {
     "data": {
      "text/plain": [
       "array([1. , 0.5, 1. ])"
      ]
     },
     "execution_count": 226,
     "metadata": {},
     "output_type": "execute_result"
    }
   ],
   "source": [
    "alocaciones_de_clusters"
   ]
  },
  {
   "cell_type": "markdown",
   "metadata": {
    "id": "vSdQsl8oaxo5"
   },
   "source": [
    "Obtengo cuantos elementos hay en cada cluster en la iteración i-1 y luego cuantos elementos hay en cada cluster en la iteración i. El cluster que tenga menos elementos en la iteración i es el que se partió. "
   ]
  },
  {
   "cell_type": "code",
   "execution_count": 234,
   "metadata": {
    "colab": {
     "base_uri": "https://localhost:8080/"
    },
    "id": "MQdAHShkb2Id",
    "outputId": "86350242-8663-493a-c36a-0c117efbd45b"
   },
   "outputs": [
    {
     "data": {
      "text/plain": [
       "array([[0, 0, 0, 0, 0, 0, 0, 0]])"
      ]
     },
     "execution_count": 234,
     "metadata": {},
     "output_type": "execute_result"
    }
   ],
   "source": [
    "np.asarray(aber2[:,i-1].reshape(1,8))"
   ]
  },
  {
   "cell_type": "code",
   "execution_count": 237,
   "metadata": {
    "colab": {
     "base_uri": "https://localhost:8080/"
    },
    "id": "yf9SoApzb4ss",
    "outputId": "5aa6469f-6444-48f3-b498-2cb638a0fa85"
   },
   "outputs": [
    {
     "data": {
      "text/plain": [
       "(array([0]), array([8]))"
      ]
     },
     "execution_count": 237,
     "metadata": {},
     "output_type": "execute_result"
    }
   ],
   "source": [
    "conteo_iter_pasada = np.unique(np.asarray(aber2[:,i-1].reshape(1,8)), return_counts= True)\n",
    "conteo_iter_pasada"
   ]
  },
  {
   "cell_type": "code",
   "execution_count": 232,
   "metadata": {
    "colab": {
     "base_uri": "https://localhost:8080/"
    },
    "id": "-saSn8EtbNNh",
    "outputId": "90146446-abfd-4b7f-d104-10097d780288"
   },
   "outputs": [
    {
     "data": {
      "text/plain": [
       "array([[0, 1, 0, 0, 0, 1, 1, 0]])"
      ]
     },
     "execution_count": 232,
     "metadata": {},
     "output_type": "execute_result"
    }
   ],
   "source": [
    "np.asarray(aber2[:,i].reshape(1,8))"
   ]
  },
  {
   "cell_type": "code",
   "execution_count": 238,
   "metadata": {
    "colab": {
     "base_uri": "https://localhost:8080/"
    },
    "id": "U8QhTLojavjl",
    "outputId": "61f4aab3-60b4-48f5-cfc7-15e858fb2a18"
   },
   "outputs": [
    {
     "data": {
      "text/plain": [
       "(array([0, 1]), array([5, 3]))"
      ]
     },
     "execution_count": 238,
     "metadata": {},
     "output_type": "execute_result"
    }
   ],
   "source": [
    "conteo_iter_actual = np.unique(np.asarray(aber2[:,i].reshape(1,8)), return_counts= True)\n",
    "conteo_iter_actual"
   ]
  },
  {
   "cell_type": "markdown",
   "metadata": {
    "id": "MrdqV3XeMWMs"
   },
   "source": [
    "Obtengo las clasificaciones de cada observación en la iteración 1 (en esta iteración se tienen en total 2 clusters, el 0 y el 1)"
   ]
  },
  {
   "cell_type": "code",
   "execution_count": 158,
   "metadata": {
    "colab": {
     "base_uri": "https://localhost:8080/"
    },
    "id": "F2tCuGsoK1CT",
    "outputId": "60c5c4f6-80c8-409d-89e4-5a3ce10980a6"
   },
   "outputs": [
    {
     "data": {
      "text/plain": [
       "matrix([[0],\n",
       "        [1],\n",
       "        [0],\n",
       "        [0],\n",
       "        [0],\n",
       "        [1],\n",
       "        [1],\n",
       "        [0]])"
      ]
     },
     "execution_count": 158,
     "metadata": {},
     "output_type": "execute_result"
    }
   ],
   "source": [
    "aber2[:,i]"
   ]
  },
  {
   "cell_type": "markdown",
   "metadata": {
    "id": "gFZsW1wRMfVi"
   },
   "source": [
    "Quiero identificar cuál cluster fue el que se dividió (en este caso, es el cluster 0 el que se dividió en cluster 0 y cluster 1)"
   ]
  },
  {
   "cell_type": "code",
   "execution_count": 159,
   "metadata": {
    "colab": {
     "base_uri": "https://localhost:8080/"
    },
    "id": "aZb0g-U8LM27",
    "outputId": "4bca9c74-27ce-4781-b935-b823ed5864cc"
   },
   "outputs": [
    {
     "data": {
      "text/plain": [
       "array([1, 5, 6])"
      ]
     },
     "execution_count": 159,
     "metadata": {},
     "output_type": "execute_result"
    }
   ],
   "source": [
    "np.where(aber2[:,i] == 1)[0]"
   ]
  },
  {
   "cell_type": "code",
   "execution_count": 160,
   "metadata": {
    "colab": {
     "base_uri": "https://localhost:8080/"
    },
    "id": "jWvInNvGLm5R",
    "outputId": "65671f3c-0626-4e22-c646-b6e2d60712d8"
   },
   "outputs": [
    {
     "data": {
      "text/plain": [
       "0"
      ]
     },
     "execution_count": 160,
     "metadata": {},
     "output_type": "execute_result"
    }
   ],
   "source": [
    "cluster_dividido = aber2[np.where(aber2[:,i] == 1)[0],i-1][0].item()\n",
    "cluster_dividido"
   ]
  },
  {
   "cell_type": "markdown",
   "metadata": {
    "id": "gDIiVmsJR60R"
   },
   "source": [
    "Como el cluster 0 se dividió, ya no pertenece al nivel uno, y su alocación se debe dividir con el cluster que se acaba de crear, por lo que se suma uno a su nivel"
   ]
  },
  {
   "cell_type": "code",
   "execution_count": 161,
   "metadata": {
    "id": "6eWRjqC5Mmmq"
   },
   "outputs": [],
   "source": [
    "niveles_de_clusters[cluster_dividido] += 1"
   ]
  },
  {
   "cell_type": "code",
   "execution_count": 162,
   "metadata": {
    "id": "tx4VV9LLUmDo"
   },
   "outputs": [],
   "source": [
    "alocaciones_de_clusters[cluster_dividido] /=2"
   ]
  },
  {
   "cell_type": "markdown",
   "metadata": {
    "id": "IWbPX921MygR"
   },
   "source": [
    "Al finalizar la primer iteración, se tiene que el cluster 0 y el cluster 1 están en el nivel 1 (es decir, su alocación es del 50%), notándo que todos los clusters que tengan un nivel de 0 faltan de ser asignados"
   ]
  },
  {
   "cell_type": "code",
   "execution_count": 163,
   "metadata": {
    "colab": {
     "base_uri": "https://localhost:8080/"
    },
    "id": "oKVKwY8OMtkH",
    "outputId": "3fdfa322-9d17-4d85-93d9-6f3e8608f7b7"
   },
   "outputs": [
    {
     "data": {
      "text/plain": [
       "array([1., 1., 0.])"
      ]
     },
     "execution_count": 163,
     "metadata": {},
     "output_type": "execute_result"
    }
   ],
   "source": [
    "niveles_de_clusters"
   ]
  },
  {
   "cell_type": "code",
   "execution_count": 164,
   "metadata": {
    "colab": {
     "base_uri": "https://localhost:8080/"
    },
    "id": "QZFMoj7cUql0",
    "outputId": "58d5a900-c20c-4df6-9394-33888ff26ecf"
   },
   "outputs": [
    {
     "data": {
      "text/plain": [
       "array([0.5, 0.5, 1. ])"
      ]
     },
     "execution_count": 164,
     "metadata": {},
     "output_type": "execute_result"
    }
   ],
   "source": [
    "alocaciones_de_clusters"
   ]
  },
  {
   "cell_type": "markdown",
   "metadata": {
    "id": "rfLGyH8sM6AD"
   },
   "source": [
    "Ahora para la segunda iteración, i = 2, se crea entonces el cluster 2,el cuál estará en el nivel 2"
   ]
  },
  {
   "cell_type": "code",
   "execution_count": 239,
   "metadata": {
    "id": "fL8Hvp3xM4Jg"
   },
   "outputs": [],
   "source": [
    "i = 2\n",
    "niveles_de_clusters[i] = i\n",
    "alocaciones_de_clusters[i] /= (2**i)"
   ]
  },
  {
   "cell_type": "code",
   "execution_count": 240,
   "metadata": {
    "colab": {
     "base_uri": "https://localhost:8080/"
    },
    "id": "U6UBRfoKM_4x",
    "outputId": "3149a830-7091-4977-d434-e64386a8b35c"
   },
   "outputs": [
    {
     "data": {
      "text/plain": [
       "array([0., 1., 2.])"
      ]
     },
     "execution_count": 240,
     "metadata": {},
     "output_type": "execute_result"
    }
   ],
   "source": [
    "niveles_de_clusters "
   ]
  },
  {
   "cell_type": "code",
   "execution_count": 241,
   "metadata": {
    "colab": {
     "base_uri": "https://localhost:8080/"
    },
    "id": "q35-jnwWU6v3",
    "outputId": "308a651e-f375-4969-edfb-8035cfacfdc1"
   },
   "outputs": [
    {
     "data": {
      "text/plain": [
       "array([1.  , 0.5 , 0.25])"
      ]
     },
     "execution_count": 241,
     "metadata": {},
     "output_type": "execute_result"
    }
   ],
   "source": [
    "alocaciones_de_clusters"
   ]
  },
  {
   "cell_type": "code",
   "execution_count": 242,
   "metadata": {
    "colab": {
     "base_uri": "https://localhost:8080/"
    },
    "id": "M1m0t0trs7Pt",
    "outputId": "6d2adc01-9d26-4d88-b0e3-70d7b30a2d12"
   },
   "outputs": [
    {
     "data": {
      "text/plain": [
       "(array([0, 1]), array([5, 3]))"
      ]
     },
     "execution_count": 242,
     "metadata": {},
     "output_type": "execute_result"
    }
   ],
   "source": [
    "conteo_iter_pasada = np.unique(np.asarray(aber2[:,i-1].reshape(1,8)), return_counts= True)\n",
    "conteo_iter_pasada"
   ]
  },
  {
   "cell_type": "code",
   "execution_count": 243,
   "metadata": {
    "colab": {
     "base_uri": "https://localhost:8080/"
    },
    "id": "-cqrCdgatBqi",
    "outputId": "004fabab-31c2-4c12-80c9-c9e035e96127"
   },
   "outputs": [
    {
     "data": {
      "text/plain": [
       "(array([0, 1, 2]), array([4, 3, 1]))"
      ]
     },
     "execution_count": 243,
     "metadata": {},
     "output_type": "execute_result"
    }
   ],
   "source": [
    "conteo_iter_actual = np.unique(np.asarray(aber2[:,i].reshape(1,8)), return_counts= True)\n",
    "conteo_iter_actual"
   ]
  },
  {
   "cell_type": "markdown",
   "metadata": {
    "id": "9STMRFnPNM2B"
   },
   "source": [
    "Ahora reviso la alocación de los clusters en la iteración 2 (ya se tienen tres clusters, el cluster 0, 1 y 2)"
   ]
  },
  {
   "cell_type": "code",
   "execution_count": 168,
   "metadata": {
    "colab": {
     "base_uri": "https://localhost:8080/"
    },
    "id": "35hjOY_7NI0R",
    "outputId": "74d59835-1e44-411e-b3a3-a4ad906a6910"
   },
   "outputs": [
    {
     "data": {
      "text/plain": [
       "matrix([[0],\n",
       "        [1],\n",
       "        [0],\n",
       "        [2],\n",
       "        [0],\n",
       "        [1],\n",
       "        [1],\n",
       "        [0]])"
      ]
     },
     "execution_count": 168,
     "metadata": {},
     "output_type": "execute_result"
    }
   ],
   "source": [
    "aber2[:,i]"
   ]
  },
  {
   "cell_type": "markdown",
   "metadata": {
    "id": "jPwpQxKHNXJZ"
   },
   "source": [
    "Reviso entonces el índice de los eleentos que pertenecen al nuevo cluster creado"
   ]
  },
  {
   "cell_type": "code",
   "execution_count": 169,
   "metadata": {
    "colab": {
     "base_uri": "https://localhost:8080/"
    },
    "id": "h5iW33VsNTcR",
    "outputId": "14ecfab3-7646-458c-c633-5ef366c347a8"
   },
   "outputs": [
    {
     "data": {
      "text/plain": [
       "array([3])"
      ]
     },
     "execution_count": 169,
     "metadata": {},
     "output_type": "execute_result"
    }
   ],
   "source": [
    "np.where(aber2[:,i] == i)[0]"
   ]
  },
  {
   "cell_type": "markdown",
   "metadata": {
    "id": "FqXNDmZlNiK8"
   },
   "source": [
    "Reviso entonces a que cluster pertenecía el elemento que ahora forma parte del nuevo cluster para ver que cluster se partió"
   ]
  },
  {
   "cell_type": "code",
   "execution_count": 170,
   "metadata": {
    "colab": {
     "base_uri": "https://localhost:8080/"
    },
    "id": "SsjyOe0ONdPL",
    "outputId": "95771fbb-147d-417d-cac3-28881613d705"
   },
   "outputs": [
    {
     "data": {
      "text/plain": [
       "0"
      ]
     },
     "execution_count": 170,
     "metadata": {},
     "output_type": "execute_result"
    }
   ],
   "source": [
    "cluster_dividido = aber2[np.where(aber2[:,i] == i)[0],i-1][0].item()\n",
    "cluster_dividido"
   ]
  },
  {
   "cell_type": "markdown",
   "metadata": {
    "id": "URYfkWKeNxP1"
   },
   "source": [
    "El cluster que se dividió fue el 0, que se dividió en cluster 0 y cluster 2. Se suma entonces un uno al cluster 0 para especificar que se ha partido una vez más"
   ]
  },
  {
   "cell_type": "code",
   "execution_count": 171,
   "metadata": {
    "id": "L2Z5DfWPNsWE"
   },
   "outputs": [],
   "source": [
    "niveles_de_clusters[cluster_dividido] += 1"
   ]
  },
  {
   "cell_type": "code",
   "execution_count": 172,
   "metadata": {
    "colab": {
     "base_uri": "https://localhost:8080/"
    },
    "id": "zXwKZBOEN5_B",
    "outputId": "2cc782c5-4f1e-4de3-8e4c-ddb1f9c24927"
   },
   "outputs": [
    {
     "data": {
      "text/plain": [
       "array([2., 1., 2.])"
      ]
     },
     "execution_count": 172,
     "metadata": {},
     "output_type": "execute_result"
    }
   ],
   "source": [
    "niveles_de_clusters"
   ]
  },
  {
   "cell_type": "code",
   "execution_count": 173,
   "metadata": {
    "id": "reIt-zVuVSSP"
   },
   "outputs": [],
   "source": [
    "alocaciones_de_clusters[cluster_dividido] /=2"
   ]
  },
  {
   "cell_type": "code",
   "execution_count": 174,
   "metadata": {
    "colab": {
     "base_uri": "https://localhost:8080/"
    },
    "id": "kqc7WoVwVZJR",
    "outputId": "a0ea0328-14ae-46dc-caf0-a0a8865f2854"
   },
   "outputs": [
    {
     "data": {
      "text/plain": [
       "array([0.25, 0.5 , 0.25])"
      ]
     },
     "execution_count": 174,
     "metadata": {},
     "output_type": "execute_result"
    }
   ],
   "source": [
    "alocaciones_de_clusters"
   ]
  },
  {
   "cell_type": "markdown",
   "metadata": {
    "id": "JWISkGa6ODZF"
   },
   "source": [
    "Este resultado indica que el cluster 1 está en el nivel uno (i.e. se ha partido solo una vez en el árbol) y merece el 50% de alocación mientras que el cluster 0 y el cluster 2 se formaron en el nivel 2 y merecen el 25% de alocación cada uno. \n",
    "\n",
    "Revisando a continuación la matriz de datos iniciales, es posible observar que en efecto así fue como se fueron determinando los clusters y que la alocación es correcta"
   ]
  },
  {
   "cell_type": "code",
   "execution_count": 175,
   "metadata": {
    "colab": {
     "base_uri": "https://localhost:8080/"
    },
    "id": "82UfXb0XOZI_",
    "outputId": "bd6dcd20-2196-49a2-f41a-83f15f0cd81f"
   },
   "outputs": [
    {
     "data": {
      "text/plain": [
       "[[2], [8], [0], [4], [1], [9], [9], [0]]"
      ]
     },
     "execution_count": 175,
     "metadata": {},
     "output_type": "execute_result"
    }
   ],
   "source": [
    "X"
   ]
  },
  {
   "cell_type": "code",
   "execution_count": 176,
   "metadata": {
    "colab": {
     "base_uri": "https://localhost:8080/"
    },
    "id": "xknF8vcXOOx0",
    "outputId": "40548046-5b9e-4d85-ee6f-587ca647c814"
   },
   "outputs": [
    {
     "data": {
      "text/plain": [
       "matrix([[0, 0, 0],\n",
       "        [0, 1, 1],\n",
       "        [0, 0, 0],\n",
       "        [0, 0, 2],\n",
       "        [0, 0, 0],\n",
       "        [0, 1, 1],\n",
       "        [0, 1, 1],\n",
       "        [0, 0, 0]])"
      ]
     },
     "execution_count": 176,
     "metadata": {},
     "output_type": "execute_result"
    }
   ],
   "source": [
    "aber2"
   ]
  },
  {
   "cell_type": "markdown",
   "metadata": {
    "id": "XF0v3Zj4OkSk"
   },
   "source": [
    "Cuando se divide en dos clusters, el primero contiene[2, 0, 4,1,0] y el segundo [8, 9, 9]. \n",
    "\n",
    "Posteriormente, el cluster que se divide es el cluster 0 ( que se divide en cluster 0 y cluster 2) \n",
    "\n",
    "y el primero tiene [2,0,1,0], el segundo [8, 9,9] y el tercero [4].\n",
    "\n",
    "Para obtener las alocaciones, basta con realizar la siguiente operación"
   ]
  },
  {
   "cell_type": "code",
   "execution_count": 179,
   "metadata": {
    "colab": {
     "base_uri": "https://localhost:8080/"
    },
    "id": "Mh-iR7rNTQKg",
    "outputId": "866039a4-3100-4fd1-f963-0d35cdcd6aeb"
   },
   "outputs": [
    {
     "data": {
      "text/plain": [
       "array([0.25, 0.5 , 0.25])"
      ]
     },
     "execution_count": 179,
     "metadata": {},
     "output_type": "execute_result"
    }
   ],
   "source": [
    "1/(2**niveles_de_clusters)"
   ]
  },
  {
   "cell_type": "markdown",
   "metadata": {
    "id": "uVFDT8Q_XUwp"
   },
   "source": [
    "Ahora si se expande a 4 clusters para ver el resultado:"
   ]
  },
  {
   "cell_type": "code",
   "execution_count": 274,
   "metadata": {
    "id": "RejD4HyuXYgF"
   },
   "outputs": [],
   "source": [
    "numero_clusters = 6\n",
    "aber2 = np.matrix(cut_tree(Z, n_clusters=range(1,numero_clusters+1)))\n",
    "niveles_de_clusters= np.zeros(numero_clusters)\n",
    "alocaciones_de_clusters= np.repeat(1.0, numero_clusters)"
   ]
  },
  {
   "cell_type": "code",
   "execution_count": 261,
   "metadata": {
    "id": "NO0YJJz_XdIp"
   },
   "outputs": [],
   "source": [
    "i = 1"
   ]
  },
  {
   "cell_type": "code",
   "execution_count": 246,
   "metadata": {
    "id": "zyX-GIrvXgd4"
   },
   "outputs": [],
   "source": [
    "niveles_de_clusters[i] = i\n",
    "alocaciones_de_clusters[i] /= (2**i)"
   ]
  },
  {
   "cell_type": "code",
   "execution_count": 247,
   "metadata": {
    "id": "PBgXD_-yXkSn"
   },
   "outputs": [],
   "source": [
    "cluster_dividido = aber2[np.where(aber2[:,i] == i)[0],i-1][0].item()"
   ]
  },
  {
   "cell_type": "code",
   "execution_count": 248,
   "metadata": {
    "id": "OR-7Vce9Xptt"
   },
   "outputs": [],
   "source": [
    "niveles_de_clusters[cluster_dividido] += 1\n",
    "alocaciones_de_clusters[cluster_dividido] /=2"
   ]
  },
  {
   "cell_type": "code",
   "execution_count": 249,
   "metadata": {
    "colab": {
     "base_uri": "https://localhost:8080/"
    },
    "id": "J_vmyt_cXugb",
    "outputId": "8447b68e-e911-48cc-eb81-b391eaa651e0"
   },
   "outputs": [
    {
     "data": {
      "text/plain": [
       "array([1., 1., 0., 0.])"
      ]
     },
     "execution_count": 249,
     "metadata": {},
     "output_type": "execute_result"
    }
   ],
   "source": [
    "niveles_de_clusters"
   ]
  },
  {
   "cell_type": "code",
   "execution_count": 250,
   "metadata": {
    "colab": {
     "base_uri": "https://localhost:8080/"
    },
    "id": "VjVVCCX2Xvv2",
    "outputId": "e8d3576c-4d3e-46f7-be00-4bec235ff2d1"
   },
   "outputs": [
    {
     "data": {
      "text/plain": [
       "array([0.5, 0.5, 1. , 1. ])"
      ]
     },
     "execution_count": 250,
     "metadata": {},
     "output_type": "execute_result"
    }
   ],
   "source": [
    "alocaciones_de_clusters"
   ]
  },
  {
   "cell_type": "code",
   "execution_count": 262,
   "metadata": {
    "colab": {
     "base_uri": "https://localhost:8080/"
    },
    "id": "AHdhcvVFtKto",
    "outputId": "0da6eabb-3c29-438a-c634-551689021853"
   },
   "outputs": [
    {
     "data": {
      "text/plain": [
       "(array([0]), array([8]))"
      ]
     },
     "execution_count": 262,
     "metadata": {},
     "output_type": "execute_result"
    }
   ],
   "source": [
    "conteo_iter_pasada = np.unique(np.asarray(aber2[:,i-1].reshape(1,8)), return_counts= True)\n",
    "conteo_iter_pasada"
   ]
  },
  {
   "cell_type": "code",
   "execution_count": 263,
   "metadata": {
    "colab": {
     "base_uri": "https://localhost:8080/"
    },
    "id": "vPbJ0r38tLWy",
    "outputId": "b8b55a0b-868c-4c4b-d951-fb5f38460b9d"
   },
   "outputs": [
    {
     "data": {
      "text/plain": [
       "(array([0, 1]), array([5, 3]))"
      ]
     },
     "execution_count": 263,
     "metadata": {},
     "output_type": "execute_result"
    }
   ],
   "source": [
    "conteo_iter_actual = np.unique(np.asarray(aber2[:,i].reshape(1,8)), return_counts= True)\n",
    "conteo_iter_actual"
   ]
  },
  {
   "cell_type": "code",
   "execution_count": 270,
   "metadata": {
    "id": "I3i7Aa3wXyAs"
   },
   "outputs": [],
   "source": [
    "i =4\n",
    "niveles_de_clusters[i] = i\n",
    "alocaciones_de_clusters[i] /= (2**i)\n",
    "cluster_dividido = aber2[np.where(aber2[:,i] == i)[0],i-1][0].item()\n",
    "niveles_de_clusters[cluster_dividido] += 1\n",
    "alocaciones_de_clusters[cluster_dividido] /=2"
   ]
  },
  {
   "cell_type": "code",
   "execution_count": 213,
   "metadata": {
    "colab": {
     "base_uri": "https://localhost:8080/"
    },
    "id": "LPvgMt-NYdbM",
    "outputId": "dedb01de-6587-457d-ad06-ff571f0a4535"
   },
   "outputs": [
    {
     "data": {
      "text/plain": [
       "0"
      ]
     },
     "execution_count": 213,
     "metadata": {},
     "output_type": "execute_result"
    }
   ],
   "source": [
    "cluster_dividido"
   ]
  },
  {
   "cell_type": "code",
   "execution_count": 214,
   "metadata": {
    "colab": {
     "base_uri": "https://localhost:8080/"
    },
    "id": "959wuHOUX4ta",
    "outputId": "88d156eb-cee5-4c38-d0ed-e833144ffc3e"
   },
   "outputs": [
    {
     "data": {
      "text/plain": [
       "array([2., 1., 2., 0.])"
      ]
     },
     "execution_count": 214,
     "metadata": {},
     "output_type": "execute_result"
    }
   ],
   "source": [
    "niveles_de_clusters"
   ]
  },
  {
   "cell_type": "code",
   "execution_count": 215,
   "metadata": {
    "colab": {
     "base_uri": "https://localhost:8080/"
    },
    "id": "9OtPDk8vX51U",
    "outputId": "2a7797af-cc07-4535-8417-dc9bd461272f"
   },
   "outputs": [
    {
     "data": {
      "text/plain": [
       "array([0.25, 0.5 , 0.25, 1.  ])"
      ]
     },
     "execution_count": 215,
     "metadata": {},
     "output_type": "execute_result"
    }
   ],
   "source": [
    "alocaciones_de_clusters"
   ]
  },
  {
   "cell_type": "code",
   "execution_count": 271,
   "metadata": {
    "colab": {
     "base_uri": "https://localhost:8080/"
    },
    "id": "UWjTVhyStXrw",
    "outputId": "019e031d-cfeb-477d-b0c3-b07dd4928b4c"
   },
   "outputs": [
    {
     "data": {
      "text/plain": [
       "(array([0, 1, 2, 3]), array([2, 3, 2, 1]))"
      ]
     },
     "execution_count": 271,
     "metadata": {},
     "output_type": "execute_result"
    }
   ],
   "source": [
    "conteo_iter_pasada = np.unique(np.asarray(aber2[:,i-1].reshape(1,8)), return_counts= True)\n",
    "conteo_iter_pasada"
   ]
  },
  {
   "cell_type": "code",
   "execution_count": 272,
   "metadata": {
    "colab": {
     "base_uri": "https://localhost:8080/"
    },
    "id": "Z9EtrRFOtYJ-",
    "outputId": "43e7b828-91c9-466f-b381-4d2e1783bb87"
   },
   "outputs": [
    {
     "data": {
      "text/plain": [
       "(array([0, 1, 2, 3, 4]), array([2, 1, 2, 1, 2]))"
      ]
     },
     "execution_count": 272,
     "metadata": {},
     "output_type": "execute_result"
    }
   ],
   "source": [
    "conteo_iter_actual = np.unique(np.asarray(aber2[:,i].reshape(1,8)), return_counts= True)\n",
    "conteo_iter_actual"
   ]
  },
  {
   "cell_type": "markdown",
   "metadata": {
    "id": "jQ8pDzKnZi16"
   },
   "source": [
    "Hay un error en esta iteración, el cluster que se está partiendo es el cluster 0, no el cluster 2."
   ]
  },
  {
   "cell_type": "code",
   "execution_count": 276,
   "metadata": {
    "colab": {
     "base_uri": "https://localhost:8080/"
    },
    "id": "JKVpf3AjX7YH",
    "outputId": "fcd57243-fada-4c7c-ea35-23af0d49835c"
   },
   "outputs": [
    {
     "name": "stdout",
     "output_type": "stream",
     "text": [
      "4\n"
     ]
    }
   ],
   "source": [
    "i =5\n",
    "niveles_de_clusters[i] = i\n",
    "alocaciones_de_clusters[i] /= (2**i)\n",
    "cluster_dividido = aber2[np.where(aber2[:,i] == i)[0],i-1][0].item()\n",
    "print(cluster_dividido)\n",
    "niveles_de_clusters[cluster_dividido] += 1\n",
    "alocaciones_de_clusters[cluster_dividido] /=2"
   ]
  },
  {
   "cell_type": "code",
   "execution_count": 277,
   "metadata": {
    "colab": {
     "base_uri": "https://localhost:8080/"
    },
    "id": "NibTcgHmX-LK",
    "outputId": "5bd50e59-8f15-4934-b39b-d6d745ca59e7"
   },
   "outputs": [
    {
     "data": {
      "text/plain": [
       "array([0., 0., 0., 0., 1., 5.])"
      ]
     },
     "execution_count": 277,
     "metadata": {},
     "output_type": "execute_result"
    }
   ],
   "source": [
    "niveles_de_clusters"
   ]
  },
  {
   "cell_type": "code",
   "execution_count": 278,
   "metadata": {
    "colab": {
     "base_uri": "https://localhost:8080/"
    },
    "id": "mKJBMa4YX_Wz",
    "outputId": "8d70b916-7b44-4a5d-9086-915dc1d8a6c8"
   },
   "outputs": [
    {
     "data": {
      "text/plain": [
       "array([1.     , 1.     , 1.     , 1.     , 0.5    , 0.03125])"
      ]
     },
     "execution_count": 278,
     "metadata": {},
     "output_type": "execute_result"
    }
   ],
   "source": [
    "alocaciones_de_clusters"
   ]
  },
  {
   "cell_type": "markdown",
   "metadata": {
    "id": "W-1lDicIukpc"
   },
   "source": [
    "Notar que hay que identificar el cluster que **pierda** elementos, es ese el que se está bifurcando"
   ]
  },
  {
   "cell_type": "code",
   "execution_count": 279,
   "metadata": {
    "colab": {
     "base_uri": "https://localhost:8080/"
    },
    "id": "5YKM9kF6teeP",
    "outputId": "8741295b-e723-4e75-9aba-4925d7394780"
   },
   "outputs": [
    {
     "data": {
      "text/plain": [
       "(array([0, 1, 2, 3, 4]), array([2, 1, 2, 1, 2]))"
      ]
     },
     "execution_count": 279,
     "metadata": {},
     "output_type": "execute_result"
    }
   ],
   "source": [
    "conteo_iter_pasada = np.unique(np.asarray(aber2[:,i-1].reshape(1,8)), return_counts= True)\n",
    "conteo_iter_pasada"
   ]
  },
  {
   "cell_type": "code",
   "execution_count": 280,
   "metadata": {
    "colab": {
     "base_uri": "https://localhost:8080/"
    },
    "id": "2Sho_KDBtgWs",
    "outputId": "f468f749-5825-4ca5-e4c3-cc3550b72411"
   },
   "outputs": [
    {
     "data": {
      "text/plain": [
       "(array([0, 1, 2, 3, 4, 5]), array([1, 1, 2, 1, 1, 2]))"
      ]
     },
     "execution_count": 280,
     "metadata": {},
     "output_type": "execute_result"
    }
   ],
   "source": [
    "conteo_iter_actual = np.unique(np.asarray(aber2[:,i].reshape(1,8)), return_counts= True)\n",
    "conteo_iter_actual"
   ]
  },
  {
   "cell_type": "markdown",
   "metadata": {
    "id": "s0cOJmvhYGpp"
   },
   "source": [
    "Checando la matriz de datos X y el cut point para cada uno se obtiene lo siguiente"
   ]
  },
  {
   "cell_type": "code",
   "execution_count": 219,
   "metadata": {
    "colab": {
     "base_uri": "https://localhost:8080/"
    },
    "id": "18OGqMXPYA6L",
    "outputId": "95554d13-4407-4ac8-f2aa-4891192cb39f"
   },
   "outputs": [
    {
     "data": {
      "text/plain": [
       "[[2], [8], [0], [4], [1], [9], [9], [0]]"
      ]
     },
     "execution_count": 219,
     "metadata": {},
     "output_type": "execute_result"
    }
   ],
   "source": [
    "X"
   ]
  },
  {
   "cell_type": "code",
   "execution_count": 273,
   "metadata": {
    "colab": {
     "base_uri": "https://localhost:8080/"
    },
    "id": "gdnX7axIYKNi",
    "outputId": "ba8b83b2-d662-490c-be9b-65e4cc9eea38"
   },
   "outputs": [
    {
     "data": {
      "text/plain": [
       "matrix([[0, 0, 0, 0, 0],\n",
       "        [0, 1, 1, 1, 1],\n",
       "        [0, 0, 0, 2, 2],\n",
       "        [0, 0, 2, 3, 3],\n",
       "        [0, 0, 0, 0, 0],\n",
       "        [0, 1, 1, 1, 4],\n",
       "        [0, 1, 1, 1, 4],\n",
       "        [0, 0, 0, 2, 2]])"
      ]
     },
     "execution_count": 273,
     "metadata": {},
     "output_type": "execute_result"
    }
   ],
   "source": [
    "aber2"
   ]
  },
  {
   "cell_type": "code",
   "execution_count": 221,
   "metadata": {
    "colab": {
     "base_uri": "https://localhost:8080/"
    },
    "id": "wZIdGnItZszF",
    "outputId": "f8cf9b05-7644-4937-f347-ccbd84fd21e0"
   },
   "outputs": [
    {
     "data": {
      "text/plain": [
       "array([[ 5.        ,  6.        ,  0.        ,  2.        ],\n",
       "       [ 7.        ,  2.        ,  0.        ,  2.        ],\n",
       "       [ 0.        ,  4.        ,  1.        ,  2.        ],\n",
       "       [ 8.        ,  1.        ,  1.15470054,  3.        ],\n",
       "       [10.        ,  9.        ,  2.12132034,  4.        ],\n",
       "       [ 3.        , 12.        ,  4.11096096,  5.        ],\n",
       "       [11.        , 13.        , 14.07183949,  8.        ]])"
      ]
     },
     "execution_count": 221,
     "metadata": {},
     "output_type": "execute_result"
    }
   ],
   "source": [
    "Z"
   ]
  },
  {
   "cell_type": "markdown",
   "metadata": {
    "id": "MckbRac0gSYD"
   },
   "source": [
    "# Segunda Solución\n",
    "\n",
    "Ir construyendo el árbol iterando en la matriz Z. \n",
    "\n",
    "Al iniciar, se tendrán dos arrays, uno que contenca el id del nodo que tiene el cluster y otro el nivel en el cuál se creó el nodo"
   ]
  },
  {
   "cell_type": "code",
   "execution_count": 67,
   "metadata": {
    "id": "DwZVJNCNgRY6"
   },
   "outputs": [],
   "source": [
    "nodos_id = []\n",
    "nivel_nodo = []"
   ]
  },
  {
   "cell_type": "markdown",
   "metadata": {
    "id": "D1QTBEGvgscB"
   },
   "source": [
    "Se define el número de clusters"
   ]
  },
  {
   "cell_type": "code",
   "execution_count": 68,
   "metadata": {
    "id": "Ik4faPJmglb9"
   },
   "outputs": [],
   "source": [
    "clusters = 4"
   ]
  },
  {
   "cell_type": "markdown",
   "metadata": {
    "id": "oRPZRSxsgyL-"
   },
   "source": [
    "Al menos tiene que haber dos clusters, empezando en el nivel uno, por lo tanto se mete a los nodos los primeros dos clusters, y se menciona que se crearon en el nivel 1. En este caso, los ID de los nodos que dividen en dos el cluster son 11 y 13"
   ]
  },
  {
   "cell_type": "code",
   "execution_count": 69,
   "metadata": {
    "id": "vw9pnQAJhX8S"
   },
   "outputs": [],
   "source": [
    "current_level = 1"
   ]
  },
  {
   "cell_type": "code",
   "execution_count": 70,
   "metadata": {
    "id": "AQISmg-AhCwx"
   },
   "outputs": [],
   "source": [
    "current_bif = Z[-current_level]"
   ]
  },
  {
   "cell_type": "code",
   "execution_count": 71,
   "metadata": {
    "colab": {
     "base_uri": "https://localhost:8080/"
    },
    "id": "vddS2ZljhR7t",
    "outputId": "8eabdbc2-860d-4649-b4f7-a8fd22fb6af7"
   },
   "outputs": [
    {
     "data": {
      "text/plain": [
       "11.0"
      ]
     },
     "execution_count": 71,
     "metadata": {},
     "output_type": "execute_result"
    }
   ],
   "source": [
    "current_bif[0]"
   ]
  },
  {
   "cell_type": "code",
   "execution_count": 72,
   "metadata": {
    "id": "T2adxOsvgvm1"
   },
   "outputs": [],
   "source": [
    "nodos_id.append(current_bif[0])\n",
    "nivel_nodo.append(current_level)"
   ]
  },
  {
   "cell_type": "code",
   "execution_count": 73,
   "metadata": {
    "colab": {
     "base_uri": "https://localhost:8080/"
    },
    "id": "U6NR-73lhb5X",
    "outputId": "0a142e58-95f4-4efd-d872-352aa5952f4c"
   },
   "outputs": [
    {
     "name": "stdout",
     "output_type": "stream",
     "text": [
      "[11.0]\n",
      "[1]\n"
     ]
    }
   ],
   "source": [
    "print(nodos_id)\n",
    "print(nivel_nodo)"
   ]
  },
  {
   "cell_type": "code",
   "execution_count": 74,
   "metadata": {
    "id": "_KbuLeXdhnSL"
   },
   "outputs": [],
   "source": [
    "nodos_id.append(current_bif[1])\n",
    "nivel_nodo.append(current_level)"
   ]
  },
  {
   "cell_type": "code",
   "execution_count": 75,
   "metadata": {
    "colab": {
     "base_uri": "https://localhost:8080/"
    },
    "id": "zx0ybYIphyhC",
    "outputId": "e4fa338f-b149-4269-8490-7b3b64fe5d25"
   },
   "outputs": [
    {
     "name": "stdout",
     "output_type": "stream",
     "text": [
      "[11.0, 13.0]\n",
      "[1, 1]\n"
     ]
    }
   ],
   "source": [
    "print(nodos_id)\n",
    "print(nivel_nodo)"
   ]
  },
  {
   "cell_type": "markdown",
   "metadata": {
    "id": "_6BSceEyh1y-"
   },
   "source": [
    "Se puede ver que ya se tienen los dos id de los dos clusters y en que nivel se crearon. Para el siguiente nivel, el cluster 13 es el que se parte en dos: el nodo 3 y el nodo 12."
   ]
  },
  {
   "cell_type": "code",
   "execution_count": 76,
   "metadata": {
    "id": "r7L-qOelh02L"
   },
   "outputs": [],
   "source": [
    "current_level = 2"
   ]
  },
  {
   "cell_type": "markdown",
   "metadata": {
    "id": "x1CK01cmiUn6"
   },
   "source": [
    "Obtengo en este caso el id del cluster que se va a analizar de la siguiente forma (en este caso se trata del nodo con id 13)"
   ]
  },
  {
   "cell_type": "code",
   "execution_count": 77,
   "metadata": {
    "colab": {
     "base_uri": "https://localhost:8080/"
    },
    "id": "rRjDpAXPiYCO",
    "outputId": "75e3cf80-358d-4b5f-a3df-506e4ed511b1"
   },
   "outputs": [
    {
     "data": {
      "text/plain": [
       "13"
      ]
     },
     "execution_count": 77,
     "metadata": {},
     "output_type": "execute_result"
    }
   ],
   "source": [
    "id_cluster = Z.shape[0]+8- current_level\n",
    "id_cluster"
   ]
  },
  {
   "cell_type": "code",
   "execution_count": 78,
   "metadata": {
    "colab": {
     "base_uri": "https://localhost:8080/"
    },
    "id": "QpZD7i7jiBfg",
    "outputId": "37e9260f-3d8c-49c4-e041-2b7326eea995"
   },
   "outputs": [
    {
     "data": {
      "text/plain": [
       "array([ 3.        , 12.        ,  4.11096096,  5.        ])"
      ]
     },
     "execution_count": 78,
     "metadata": {},
     "output_type": "execute_result"
    }
   ],
   "source": [
    "current_bif = Z[-current_level]\n",
    "current_bif\n"
   ]
  },
  {
   "cell_type": "markdown",
   "metadata": {
    "id": "Q1u-Bvx_jm58"
   },
   "source": [
    "Como el nodo 13 se partió en dos, hay que quitarlo de los id's que representan clusters y meter los dos en los que se partió. Primer se obtiene el ID del cluster para poder quitarlo del array"
   ]
  },
  {
   "cell_type": "code",
   "execution_count": 79,
   "metadata": {
    "colab": {
     "base_uri": "https://localhost:8080/"
    },
    "id": "YBlphlXYiMSZ",
    "outputId": "f812c435-570d-4bb7-f2ae-28e45b4c4555"
   },
   "outputs": [
    {
     "data": {
      "text/plain": [
       "1"
      ]
     },
     "execution_count": 79,
     "metadata": {},
     "output_type": "execute_result"
    }
   ],
   "source": [
    "index_of_id = nodos_id.index(id_cluster)\n",
    "index_of_id"
   ]
  },
  {
   "cell_type": "code",
   "execution_count": 80,
   "metadata": {
    "id": "Tgq16XggkuaR"
   },
   "outputs": [],
   "source": [
    "del nivel_nodo[index_of_id]\n",
    "del nodos_id[index_of_id]"
   ]
  },
  {
   "cell_type": "code",
   "execution_count": 81,
   "metadata": {
    "colab": {
     "base_uri": "https://localhost:8080/"
    },
    "id": "_w-oFUaElEOH",
    "outputId": "259f3781-6830-4cd5-d50b-98f996635384"
   },
   "outputs": [
    {
     "name": "stdout",
     "output_type": "stream",
     "text": [
      "[1]\n",
      "[11.0]\n"
     ]
    }
   ],
   "source": [
    "print(nivel_nodo)\n",
    "print(nodos_id)"
   ]
  },
  {
   "cell_type": "markdown",
   "metadata": {
    "id": "aM2_FZ5Hl0NG"
   },
   "source": [
    "Ahora hay que agregar los clusters en los que se partió (el 3 y el 12)"
   ]
  },
  {
   "cell_type": "code",
   "execution_count": 82,
   "metadata": {
    "id": "NeGpELTal4-X"
   },
   "outputs": [],
   "source": [
    "nodos_id.append(current_bif[0])\n",
    "nivel_nodo.append(current_level)\n",
    "nodos_id.append(current_bif[1])\n",
    "nivel_nodo.append(current_level)"
   ]
  },
  {
   "cell_type": "code",
   "execution_count": 83,
   "metadata": {
    "colab": {
     "base_uri": "https://localhost:8080/"
    },
    "id": "aqm3Ublhl-gT",
    "outputId": "e00a6074-810c-4932-a018-52dd7ecc5f8e"
   },
   "outputs": [
    {
     "name": "stdout",
     "output_type": "stream",
     "text": [
      "[11.0, 3.0, 12.0]\n",
      "[1, 2, 2]\n"
     ]
    }
   ],
   "source": [
    "print(nodos_id)\n",
    "print(nivel_nodo)"
   ]
  },
  {
   "cell_type": "markdown",
   "metadata": {
    "id": "hSO95YkAmPqo"
   },
   "source": [
    "Se puede ir viendo cuantos clusters se tiene con la longitud del array de nodos_id"
   ]
  },
  {
   "cell_type": "code",
   "execution_count": 85,
   "metadata": {
    "colab": {
     "base_uri": "https://localhost:8080/"
    },
    "id": "ITejwd2jmOjF",
    "outputId": "0d1c6249-838b-4262-8ed4-cd6d9b0d7a72"
   },
   "outputs": [
    {
     "name": "stdout",
     "output_type": "stream",
     "text": [
      "3\n"
     ]
    }
   ],
   "source": [
    "print(len(nodos_id))"
   ]
  },
  {
   "cell_type": "markdown",
   "metadata": {
    "id": "US1wOP6hm5Eg"
   },
   "source": [
    "Para el siguiente nivel, el cluster que se parte es el 12 que se parte en el cluster 10 y en el cluster 9. entonces encontramos a continuación el cluster id"
   ]
  },
  {
   "cell_type": "code",
   "execution_count": 87,
   "metadata": {
    "id": "hMIjOff2mwKQ"
   },
   "outputs": [],
   "source": [
    "current_level = 3"
   ]
  },
  {
   "cell_type": "code",
   "execution_count": 88,
   "metadata": {
    "colab": {
     "base_uri": "https://localhost:8080/"
    },
    "id": "ujezDJhZnAX9",
    "outputId": "5e2ddefa-5403-4b05-cef8-a14b71a74026"
   },
   "outputs": [
    {
     "data": {
      "text/plain": [
       "12"
      ]
     },
     "execution_count": 88,
     "metadata": {},
     "output_type": "execute_result"
    }
   ],
   "source": [
    "id_cluster = Z.shape[0]+8- current_level\n",
    "id_cluster"
   ]
  },
  {
   "cell_type": "code",
   "execution_count": 89,
   "metadata": {
    "colab": {
     "base_uri": "https://localhost:8080/"
    },
    "id": "ZTC6_97HnDrt",
    "outputId": "5fb89066-423d-4f3c-8176-cb04eb6d3340"
   },
   "outputs": [
    {
     "data": {
      "text/plain": [
       "array([10.        ,  9.        ,  2.12132034,  4.        ])"
      ]
     },
     "execution_count": 89,
     "metadata": {},
     "output_type": "execute_result"
    }
   ],
   "source": [
    "current_bif = Z[-current_level]\n",
    "current_bif"
   ]
  },
  {
   "cell_type": "markdown",
   "metadata": {
    "id": "RnxeykzPnlf_"
   },
   "source": [
    "Ahora hay que quitar al nodo 12 de los clusters en los que se tenía"
   ]
  },
  {
   "cell_type": "code",
   "execution_count": 90,
   "metadata": {
    "colab": {
     "base_uri": "https://localhost:8080/"
    },
    "id": "Qpi_FvrYnHEm",
    "outputId": "f36582a0-f619-4a68-900d-605b77c5ca65"
   },
   "outputs": [
    {
     "data": {
      "text/plain": [
       "2"
      ]
     },
     "execution_count": 90,
     "metadata": {},
     "output_type": "execute_result"
    }
   ],
   "source": [
    "index_of_id = nodos_id.index(id_cluster)\n",
    "index_of_id"
   ]
  },
  {
   "cell_type": "code",
   "execution_count": 93,
   "metadata": {
    "colab": {
     "base_uri": "https://localhost:8080/"
    },
    "id": "gS8PVUhUnpmX",
    "outputId": "06f22489-dccf-4ff3-9790-71a4cfef7fd1"
   },
   "outputs": [
    {
     "name": "stdout",
     "output_type": "stream",
     "text": [
      "[1, 2]\n",
      "[11.0, 3.0]\n"
     ]
    }
   ],
   "source": [
    "del nivel_nodo[index_of_id]\n",
    "del nodos_id[index_of_id]\n",
    "print(nivel_nodo)\n",
    "print(nodos_id)"
   ]
  },
  {
   "cell_type": "markdown",
   "metadata": {
    "id": "tshpKYPnn3Rw"
   },
   "source": [
    "Ahora agregamos los clusters en los que se partió el nodo 12 ( que son el 10 y el 9)"
   ]
  },
  {
   "cell_type": "code",
   "execution_count": 94,
   "metadata": {
    "id": "_ZMhFzENnzr0"
   },
   "outputs": [],
   "source": [
    "nodos_id.append(current_bif[0])\n",
    "nivel_nodo.append(current_level)\n",
    "nodos_id.append(current_bif[1])\n",
    "nivel_nodo.append(current_level)"
   ]
  },
  {
   "cell_type": "code",
   "execution_count": 95,
   "metadata": {
    "colab": {
     "base_uri": "https://localhost:8080/"
    },
    "id": "HGmsVwFIn-lD",
    "outputId": "903c8077-58b9-42a7-aac8-a5e4ac5c9fe0"
   },
   "outputs": [
    {
     "name": "stdout",
     "output_type": "stream",
     "text": [
      "[11.0, 3.0, 10.0, 9.0]\n",
      "[1, 2, 3, 3]\n"
     ]
    }
   ],
   "source": [
    "print(nodos_id)\n",
    "print(nivel_nodo)"
   ]
  },
  {
   "cell_type": "markdown",
   "metadata": {},
   "source": [
    "A continuación se coloca este código en una función:"
   ]
  },
  {
   "cell_type": "code",
   "execution_count": 131,
   "metadata": {},
   "outputs": [],
   "source": [
    "def get_levels(n_clusters, n_filas, mat_Z):\n",
    "    nodos_id = []\n",
    "    nivel_nodo = []\n",
    "    filas_Z = mat_Z.shape[0]\n",
    "    current_bif = mat_Z[-1]\n",
    "    nodos_id.append(int(current_bif[0]))\n",
    "    nivel_nodo.append(.5)\n",
    "    nodos_id.append(int(current_bif[1]))\n",
    "    nivel_nodo.append(.5)\n",
    "    current_level = 2\n",
    "    while(current_level < n_clusters):\n",
    "        id_cluster = filas_Z+n_filas-current_level\n",
    "        current_bif = mat_Z[-current_level]\n",
    "        index_of_id = nodos_id.index(id_cluster)\n",
    "        new_weight = nivel_nodo[index_of_id] / 2\n",
    "        del nivel_nodo[index_of_id]\n",
    "        del nodos_id[index_of_id]\n",
    "        nodos_id.append(int(current_bif[0]))\n",
    "        nivel_nodo.append(new_weight)\n",
    "        nodos_id.append(int(current_bif[1]))\n",
    "        nivel_nodo.append(new_weight)\n",
    "        current_level += 1\n",
    "    return(nodos_id, nivel_nodo)"
   ]
  },
  {
   "cell_type": "code",
   "execution_count": 124,
   "metadata": {},
   "outputs": [
    {
     "data": {
      "text/plain": [
       "([11, 3, 10, 9], [0.5, 0.25, 0.125, 0.125])"
      ]
     },
     "execution_count": 124,
     "metadata": {},
     "output_type": "execute_result"
    }
   ],
   "source": [
    "get_levels(4, 8, Z)"
   ]
  },
  {
   "cell_type": "markdown",
   "metadata": {
    "id": "aovz_b00oEOG"
   },
   "source": [
    "Se puede comprobar entonces que si se quisieran 4 clusters, ya se tiene que nodo corresponde a cada cluster y en que nivel está cada cluster. Sin embargo, aún hay que obtener los leafs que pertenecen a cada nodo. Para esto habría que escribir una función auxiliar."
   ]
  },
  {
   "cell_type": "markdown",
   "metadata": {},
   "source": [
    "Por ejemplo, si se pasara el nodo 13, la forma de ver como está compuesto el nodo sería entrando a la entrada (i - número de filas en la matrix X) de la matriz Z"
   ]
  },
  {
   "cell_type": "code",
   "execution_count": 4,
   "metadata": {},
   "outputs": [],
   "source": [
    "X = np.asmatrix(X)"
   ]
  },
  {
   "cell_type": "code",
   "execution_count": 10,
   "metadata": {
    "id": "-La-LE4ioA3V"
   },
   "outputs": [],
   "source": [
    "n_filas = X.shape[0]"
   ]
  },
  {
   "cell_type": "code",
   "execution_count": 8,
   "metadata": {},
   "outputs": [],
   "source": [
    "id_nodo = 13"
   ]
  },
  {
   "cell_type": "code",
   "execution_count": 12,
   "metadata": {},
   "outputs": [],
   "source": [
    "id_Z = id_nodo - n_filas"
   ]
  },
  {
   "cell_type": "markdown",
   "metadata": {},
   "source": [
    "Si se obtiene la fila correspondiente de Z, se observa entonces que el nodo 13 está formado por el elemento con índice 3 y el nodo 12"
   ]
  },
  {
   "cell_type": "code",
   "execution_count": 16,
   "metadata": {},
   "outputs": [
    {
     "data": {
      "text/plain": [
       "array([ 3.        , 12.        ,  4.11096096,  5.        ])"
      ]
     },
     "execution_count": 16,
     "metadata": {},
     "output_type": "execute_result"
    }
   ],
   "source": [
    "Z[id_Z]"
   ]
  },
  {
   "cell_type": "markdown",
   "metadata": {},
   "source": [
    "Como el elemento 3 <= n_filas, ese ya es un índice final y se regresa así, sin embargo, es necesario entrar ahora en el nodo 12, pues 12 > n_filas"
   ]
  },
  {
   "cell_type": "code",
   "execution_count": 19,
   "metadata": {},
   "outputs": [],
   "source": [
    "id_nodo = 12"
   ]
  },
  {
   "cell_type": "code",
   "execution_count": 20,
   "metadata": {},
   "outputs": [],
   "source": [
    "id_Z = id_nodo - n_filas"
   ]
  },
  {
   "cell_type": "code",
   "execution_count": 21,
   "metadata": {},
   "outputs": [
    {
     "data": {
      "text/plain": [
       "array([10.        ,  9.        ,  2.12132034,  4.        ])"
      ]
     },
     "execution_count": 21,
     "metadata": {},
     "output_type": "execute_result"
    }
   ],
   "source": [
    "Z[id_Z]"
   ]
  },
  {
   "cell_type": "markdown",
   "metadata": {},
   "source": [
    "Acá de nuevo hay dos nodos que son mayores a n_filas, por lo tanto hay que entrar de nuevo"
   ]
  },
  {
   "cell_type": "code",
   "execution_count": 22,
   "metadata": {},
   "outputs": [],
   "source": [
    "id_nodo = 10"
   ]
  },
  {
   "cell_type": "code",
   "execution_count": 24,
   "metadata": {},
   "outputs": [
    {
     "data": {
      "text/plain": [
       "array([0., 4., 1., 2.])"
      ]
     },
     "execution_count": 24,
     "metadata": {},
     "output_type": "execute_result"
    }
   ],
   "source": [
    "id_Z = id_nodo - n_filas\n",
    "Z[id_Z]"
   ]
  },
  {
   "cell_type": "markdown",
   "metadata": {},
   "source": [
    "Aquí ya se llegó a dos elementos que son menores o iguales a n_filas, ya se regresan estos elementos"
   ]
  },
  {
   "cell_type": "code",
   "execution_count": 25,
   "metadata": {},
   "outputs": [],
   "source": [
    "id_nodo = 9"
   ]
  },
  {
   "cell_type": "code",
   "execution_count": 26,
   "metadata": {},
   "outputs": [
    {
     "data": {
      "text/plain": [
       "array([7., 2., 0., 2.])"
      ]
     },
     "execution_count": 26,
     "metadata": {},
     "output_type": "execute_result"
    }
   ],
   "source": [
    "id_Z = id_nodo - n_filas\n",
    "Z[id_Z]"
   ]
  },
  {
   "cell_type": "markdown",
   "metadata": {},
   "source": [
    "Ya se tienen dos elementos que son <= a n_filas, por lo tanto ya se regran. El resultado entonces son los índices 7, 2, 0, 4 y 3, lo cuál es correcto. Ahora poniendo todo en una función recursiva:"
   ]
  },
  {
   "cell_type": "code",
   "execution_count": 128,
   "metadata": {},
   "outputs": [],
   "source": [
    "def get_leaves(id_nodo, mat_Z, n_filas):\n",
    "    if id_nodo <= n_filas -1:\n",
    "        return [id_nodo]\n",
    "    fila_Z = mat_Z[id_nodo - n_filas]\n",
    "    id_nodo_1 = int(fila_Z[0])\n",
    "    id_nodo_2 = int(fila_Z[1])\n",
    "    el_1 =0\n",
    "    el_2 = 0\n",
    "    if (id_nodo_1 <= n_filas-1) and(id_nodo_2 <= n_filas-1):\n",
    "        return([id_nodo_1, id_nodo_2])\n",
    "    elif (id_nodo_1 > n_filas-1)and(id_nodo_2 > n_filas-1):\n",
    "        el_1 = get_leaves(id_nodo_1, mat_Z, n_filas)\n",
    "        el_2 = get_leaves(id_nodo_2, mat_Z, n_filas)\n",
    "        return(el_1 + el_2)\n",
    "    elif (id_nodo_1 > n_filas-1):\n",
    "        el_1 = get_leaves(id_nodo_1, mat_Z, n_filas)\n",
    "        el_1.append(id_nodo_2)\n",
    "        return(el_1)\n",
    "    else:\n",
    "        el_2 = get_leaves(id_nodo_2, mat_Z, n_filas)\n",
    "        el_2.append(id_nodo_1)\n",
    "        return(el_2)"
   ]
  },
  {
   "cell_type": "markdown",
   "metadata": {},
   "source": [
    "Probando la función con el nodo 14, que es básicamente el nodo más grande y el que reune a todos:"
   ]
  },
  {
   "cell_type": "code",
   "execution_count": 130,
   "metadata": {},
   "outputs": [
    {
     "data": {
      "text/plain": [
       "[5, 6]"
      ]
     },
     "execution_count": 130,
     "metadata": {},
     "output_type": "execute_result"
    }
   ],
   "source": [
    "get_leaves(8, Z, X.shape[0])"
   ]
  },
  {
   "cell_type": "markdown",
   "metadata": {},
   "source": [
    "Si se probara en los dos nodos que forman el nodo 14, que son los nodos 13 y 11, puede observarse que la función da los resultados correctos"
   ]
  },
  {
   "cell_type": "code",
   "execution_count": 100,
   "metadata": {},
   "outputs": [
    {
     "data": {
      "text/plain": [
       "[0, 4, 7, 2, 3]"
      ]
     },
     "execution_count": 100,
     "metadata": {},
     "output_type": "execute_result"
    }
   ],
   "source": [
    "get_leaves(13, Z, X.shape[0])"
   ]
  },
  {
   "cell_type": "code",
   "execution_count": 101,
   "metadata": {},
   "outputs": [
    {
     "data": {
      "text/plain": [
       "[5, 6, 1]"
      ]
     },
     "execution_count": 101,
     "metadata": {},
     "output_type": "execute_result"
    }
   ],
   "source": [
    "get_leaves(11, Z, X.shape[0])"
   ]
  }
 ],
 "metadata": {
  "colab": {
   "collapsed_sections": [],
   "name": "inspecting_hierarchical_algorithms.ipynb",
   "provenance": []
  },
  "kernelspec": {
   "display_name": "Python 3 (ipykernel)",
   "language": "python",
   "name": "python3"
  },
  "language_info": {
   "codemirror_mode": {
    "name": "ipython",
    "version": 3
   },
   "file_extension": ".py",
   "mimetype": "text/x-python",
   "name": "python",
   "nbconvert_exporter": "python",
   "pygments_lexer": "ipython3",
   "version": "3.8.13"
  }
 },
 "nbformat": 4,
 "nbformat_minor": 4
}
